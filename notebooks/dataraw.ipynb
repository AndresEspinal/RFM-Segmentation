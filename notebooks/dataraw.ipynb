{
 "cells": [
  {
   "cell_type": "code",
   "execution_count": 1,
   "metadata": {},
   "outputs": [
    {
     "name": "stdout",
     "output_type": "stream",
     "text": [
      "Requirement already satisfied: pandas in c:\\users\\andre\\appdata\\local\\programs\\python\\python311\\lib\\site-packages (2.2.2)\n",
      "Requirement already satisfied: numpy>=1.23.2 in c:\\users\\andre\\appdata\\local\\programs\\python\\python311\\lib\\site-packages (from pandas) (2.0.0)\n",
      "Requirement already satisfied: python-dateutil>=2.8.2 in c:\\users\\andre\\appdata\\local\\programs\\python\\python311\\lib\\site-packages (from pandas) (2.9.0.post0)\n",
      "Requirement already satisfied: pytz>=2020.1 in c:\\users\\andre\\appdata\\local\\programs\\python\\python311\\lib\\site-packages (from pandas) (2024.1)\n",
      "Requirement already satisfied: tzdata>=2022.7 in c:\\users\\andre\\appdata\\local\\programs\\python\\python311\\lib\\site-packages (from pandas) (2024.1)\n",
      "Requirement already satisfied: six>=1.5 in c:\\users\\andre\\appdata\\local\\programs\\python\\python311\\lib\\site-packages (from python-dateutil>=2.8.2->pandas) (1.16.0)\n"
     ]
    },
    {
     "name": "stderr",
     "output_type": "stream",
     "text": [
      "\n",
      "[notice] A new release of pip available: 22.3.1 -> 24.3.1\n",
      "[notice] To update, run: python.exe -m pip install --upgrade pip\n"
     ]
    },
    {
     "name": "stdout",
     "output_type": "stream",
     "text": [
      "Requirement already satisfied: numpy in c:\\users\\andre\\appdata\\local\\programs\\python\\python311\\lib\\site-packages (2.0.0)\n"
     ]
    },
    {
     "name": "stderr",
     "output_type": "stream",
     "text": [
      "\n",
      "[notice] A new release of pip available: 22.3.1 -> 24.3.1\n",
      "[notice] To update, run: python.exe -m pip install --upgrade pip\n"
     ]
    },
    {
     "name": "stdout",
     "output_type": "stream",
     "text": [
      "Requirement already satisfied: seaborn in c:\\users\\andre\\appdata\\local\\programs\\python\\python311\\lib\\site-packages (0.13.2)\n",
      "Requirement already satisfied: numpy!=1.24.0,>=1.20 in c:\\users\\andre\\appdata\\local\\programs\\python\\python311\\lib\\site-packages (from seaborn) (2.0.0)\n",
      "Requirement already satisfied: pandas>=1.2 in c:\\users\\andre\\appdata\\local\\programs\\python\\python311\\lib\\site-packages (from seaborn) (2.2.2)\n",
      "Requirement already satisfied: matplotlib!=3.6.1,>=3.4 in c:\\users\\andre\\appdata\\local\\programs\\python\\python311\\lib\\site-packages (from seaborn) (3.9.0)\n",
      "Requirement already satisfied: contourpy>=1.0.1 in c:\\users\\andre\\appdata\\local\\programs\\python\\python311\\lib\\site-packages (from matplotlib!=3.6.1,>=3.4->seaborn) (1.2.1)\n",
      "Requirement already satisfied: cycler>=0.10 in c:\\users\\andre\\appdata\\local\\programs\\python\\python311\\lib\\site-packages (from matplotlib!=3.6.1,>=3.4->seaborn) (0.12.1)\n",
      "Requirement already satisfied: fonttools>=4.22.0 in c:\\users\\andre\\appdata\\local\\programs\\python\\python311\\lib\\site-packages (from matplotlib!=3.6.1,>=3.4->seaborn) (4.53.0)\n",
      "Requirement already satisfied: kiwisolver>=1.3.1 in c:\\users\\andre\\appdata\\local\\programs\\python\\python311\\lib\\site-packages (from matplotlib!=3.6.1,>=3.4->seaborn) (1.4.5)\n",
      "Requirement already satisfied: packaging>=20.0 in c:\\users\\andre\\appdata\\roaming\\python\\python311\\site-packages (from matplotlib!=3.6.1,>=3.4->seaborn) (24.1)\n",
      "Requirement already satisfied: pillow>=8 in c:\\users\\andre\\appdata\\local\\programs\\python\\python311\\lib\\site-packages (from matplotlib!=3.6.1,>=3.4->seaborn) (10.3.0)\n",
      "Requirement already satisfied: pyparsing>=2.3.1 in c:\\users\\andre\\appdata\\local\\programs\\python\\python311\\lib\\site-packages (from matplotlib!=3.6.1,>=3.4->seaborn) (3.1.2)\n",
      "Requirement already satisfied: python-dateutil>=2.7 in c:\\users\\andre\\appdata\\local\\programs\\python\\python311\\lib\\site-packages (from matplotlib!=3.6.1,>=3.4->seaborn) (2.9.0.post0)\n",
      "Requirement already satisfied: pytz>=2020.1 in c:\\users\\andre\\appdata\\local\\programs\\python\\python311\\lib\\site-packages (from pandas>=1.2->seaborn) (2024.1)\n",
      "Requirement already satisfied: tzdata>=2022.7 in c:\\users\\andre\\appdata\\local\\programs\\python\\python311\\lib\\site-packages (from pandas>=1.2->seaborn) (2024.1)\n",
      "Requirement already satisfied: six>=1.5 in c:\\users\\andre\\appdata\\local\\programs\\python\\python311\\lib\\site-packages (from python-dateutil>=2.7->matplotlib!=3.6.1,>=3.4->seaborn) (1.16.0)\n"
     ]
    },
    {
     "name": "stderr",
     "output_type": "stream",
     "text": [
      "\n",
      "[notice] A new release of pip available: 22.3.1 -> 24.3.1\n",
      "[notice] To update, run: python.exe -m pip install --upgrade pip\n"
     ]
    },
    {
     "name": "stdout",
     "output_type": "stream",
     "text": [
      "Requirement already satisfied: matplotlib in c:\\users\\andre\\appdata\\local\\programs\\python\\python311\\lib\\site-packages (3.9.0)\n",
      "Requirement already satisfied: contourpy>=1.0.1 in c:\\users\\andre\\appdata\\local\\programs\\python\\python311\\lib\\site-packages (from matplotlib) (1.2.1)\n",
      "Requirement already satisfied: cycler>=0.10 in c:\\users\\andre\\appdata\\local\\programs\\python\\python311\\lib\\site-packages (from matplotlib) (0.12.1)\n",
      "Requirement already satisfied: fonttools>=4.22.0 in c:\\users\\andre\\appdata\\local\\programs\\python\\python311\\lib\\site-packages (from matplotlib) (4.53.0)\n",
      "Requirement already satisfied: kiwisolver>=1.3.1 in c:\\users\\andre\\appdata\\local\\programs\\python\\python311\\lib\\site-packages (from matplotlib) (1.4.5)\n",
      "Requirement already satisfied: numpy>=1.23 in c:\\users\\andre\\appdata\\local\\programs\\python\\python311\\lib\\site-packages (from matplotlib) (2.0.0)\n",
      "Requirement already satisfied: packaging>=20.0 in c:\\users\\andre\\appdata\\roaming\\python\\python311\\site-packages (from matplotlib) (24.1)\n",
      "Requirement already satisfied: pillow>=8 in c:\\users\\andre\\appdata\\local\\programs\\python\\python311\\lib\\site-packages (from matplotlib) (10.3.0)\n",
      "Requirement already satisfied: pyparsing>=2.3.1 in c:\\users\\andre\\appdata\\local\\programs\\python\\python311\\lib\\site-packages (from matplotlib) (3.1.2)\n",
      "Requirement already satisfied: python-dateutil>=2.7 in c:\\users\\andre\\appdata\\local\\programs\\python\\python311\\lib\\site-packages (from matplotlib) (2.9.0.post0)\n",
      "Requirement already satisfied: six>=1.5 in c:\\users\\andre\\appdata\\local\\programs\\python\\python311\\lib\\site-packages (from python-dateutil>=2.7->matplotlib) (1.16.0)\n"
     ]
    },
    {
     "name": "stderr",
     "output_type": "stream",
     "text": [
      "\n",
      "[notice] A new release of pip available: 22.3.1 -> 24.3.1\n",
      "[notice] To update, run: python.exe -m pip install --upgrade pip\n"
     ]
    },
    {
     "name": "stdout",
     "output_type": "stream",
     "text": [
      "Requirement already satisfied: scikit-learn in c:\\users\\andre\\appdata\\local\\programs\\python\\python311\\lib\\site-packages (1.5.0)\n",
      "Requirement already satisfied: numpy>=1.19.5 in c:\\users\\andre\\appdata\\local\\programs\\python\\python311\\lib\\site-packages (from scikit-learn) (2.0.0)\n",
      "Requirement already satisfied: scipy>=1.6.0 in c:\\users\\andre\\appdata\\local\\programs\\python\\python311\\lib\\site-packages (from scikit-learn) (1.13.1)\n",
      "Requirement already satisfied: joblib>=1.2.0 in c:\\users\\andre\\appdata\\local\\programs\\python\\python311\\lib\\site-packages (from scikit-learn) (1.4.2)\n",
      "Requirement already satisfied: threadpoolctl>=3.1.0 in c:\\users\\andre\\appdata\\local\\programs\\python\\python311\\lib\\site-packages (from scikit-learn) (3.5.0)\n"
     ]
    },
    {
     "name": "stderr",
     "output_type": "stream",
     "text": [
      "\n",
      "[notice] A new release of pip available: 22.3.1 -> 24.3.1\n",
      "[notice] To update, run: python.exe -m pip install --upgrade pip\n"
     ]
    },
    {
     "name": "stdout",
     "output_type": "stream",
     "text": [
      "Requirement already satisfied: scipy in c:\\users\\andre\\appdata\\local\\programs\\python\\python311\\lib\\site-packages (1.13.1)\n",
      "Requirement already satisfied: numpy<2.3,>=1.22.4 in c:\\users\\andre\\appdata\\local\\programs\\python\\python311\\lib\\site-packages (from scipy) (2.0.0)\n"
     ]
    },
    {
     "name": "stderr",
     "output_type": "stream",
     "text": [
      "\n",
      "[notice] A new release of pip available: 22.3.1 -> 24.3.1\n",
      "[notice] To update, run: python.exe -m pip install --upgrade pip\n"
     ]
    },
    {
     "name": "stdout",
     "output_type": "stream",
     "text": [
      "Requirement already satisfied: statsmodels in c:\\users\\andre\\appdata\\local\\programs\\python\\python311\\lib\\site-packages (0.14.2)\n",
      "Requirement already satisfied: numpy>=1.22.3 in c:\\users\\andre\\appdata\\local\\programs\\python\\python311\\lib\\site-packages (from statsmodels) (2.0.0)\n",
      "Requirement already satisfied: scipy!=1.9.2,>=1.8 in c:\\users\\andre\\appdata\\local\\programs\\python\\python311\\lib\\site-packages (from statsmodels) (1.13.1)\n",
      "Requirement already satisfied: pandas!=2.1.0,>=1.4 in c:\\users\\andre\\appdata\\local\\programs\\python\\python311\\lib\\site-packages (from statsmodels) (2.2.2)\n",
      "Requirement already satisfied: patsy>=0.5.6 in c:\\users\\andre\\appdata\\local\\programs\\python\\python311\\lib\\site-packages (from statsmodels) (0.5.6)\n",
      "Requirement already satisfied: packaging>=21.3 in c:\\users\\andre\\appdata\\roaming\\python\\python311\\site-packages (from statsmodels) (24.1)\n",
      "Requirement already satisfied: python-dateutil>=2.8.2 in c:\\users\\andre\\appdata\\local\\programs\\python\\python311\\lib\\site-packages (from pandas!=2.1.0,>=1.4->statsmodels) (2.9.0.post0)\n",
      "Requirement already satisfied: pytz>=2020.1 in c:\\users\\andre\\appdata\\local\\programs\\python\\python311\\lib\\site-packages (from pandas!=2.1.0,>=1.4->statsmodels) (2024.1)\n",
      "Requirement already satisfied: tzdata>=2022.7 in c:\\users\\andre\\appdata\\local\\programs\\python\\python311\\lib\\site-packages (from pandas!=2.1.0,>=1.4->statsmodels) (2024.1)\n",
      "Requirement already satisfied: six in c:\\users\\andre\\appdata\\local\\programs\\python\\python311\\lib\\site-packages (from patsy>=0.5.6->statsmodels) (1.16.0)\n"
     ]
    },
    {
     "name": "stderr",
     "output_type": "stream",
     "text": [
      "\n",
      "[notice] A new release of pip available: 22.3.1 -> 24.3.1\n",
      "[notice] To update, run: python.exe -m pip install --upgrade pip\n"
     ]
    },
    {
     "name": "stdout",
     "output_type": "stream",
     "text": [
      "Requirement already satisfied: imbalanced-learn in c:\\users\\andre\\appdata\\local\\programs\\python\\python311\\lib\\site-packages (0.12.3)\n",
      "Requirement already satisfied: numpy>=1.17.3 in c:\\users\\andre\\appdata\\local\\programs\\python\\python311\\lib\\site-packages (from imbalanced-learn) (2.0.0)\n",
      "Requirement already satisfied: scipy>=1.5.0 in c:\\users\\andre\\appdata\\local\\programs\\python\\python311\\lib\\site-packages (from imbalanced-learn) (1.13.1)\n",
      "Requirement already satisfied: scikit-learn>=1.0.2 in c:\\users\\andre\\appdata\\local\\programs\\python\\python311\\lib\\site-packages (from imbalanced-learn) (1.5.0)\n",
      "Requirement already satisfied: joblib>=1.1.1 in c:\\users\\andre\\appdata\\local\\programs\\python\\python311\\lib\\site-packages (from imbalanced-learn) (1.4.2)\n",
      "Requirement already satisfied: threadpoolctl>=2.0.0 in c:\\users\\andre\\appdata\\local\\programs\\python\\python311\\lib\\site-packages (from imbalanced-learn) (3.5.0)\n"
     ]
    },
    {
     "name": "stderr",
     "output_type": "stream",
     "text": [
      "\n",
      "[notice] A new release of pip available: 22.3.1 -> 24.3.1\n",
      "[notice] To update, run: python.exe -m pip install --upgrade pip\n"
     ]
    },
    {
     "name": "stdout",
     "output_type": "stream",
     "text": [
      "Requirement already satisfied: scikit-plot in c:\\users\\andre\\appdata\\local\\programs\\python\\python311\\lib\\site-packages (0.3.7)\n",
      "Requirement already satisfied: matplotlib>=1.4.0 in c:\\users\\andre\\appdata\\local\\programs\\python\\python311\\lib\\site-packages (from scikit-plot) (3.9.0)\n",
      "Requirement already satisfied: scikit-learn>=0.18 in c:\\users\\andre\\appdata\\local\\programs\\python\\python311\\lib\\site-packages (from scikit-plot) (1.5.0)\n",
      "Requirement already satisfied: scipy>=0.9 in c:\\users\\andre\\appdata\\local\\programs\\python\\python311\\lib\\site-packages (from scikit-plot) (1.13.1)\n",
      "Requirement already satisfied: joblib>=0.10 in c:\\users\\andre\\appdata\\local\\programs\\python\\python311\\lib\\site-packages (from scikit-plot) (1.4.2)\n",
      "Requirement already satisfied: contourpy>=1.0.1 in c:\\users\\andre\\appdata\\local\\programs\\python\\python311\\lib\\site-packages (from matplotlib>=1.4.0->scikit-plot) (1.2.1)\n",
      "Requirement already satisfied: cycler>=0.10 in c:\\users\\andre\\appdata\\local\\programs\\python\\python311\\lib\\site-packages (from matplotlib>=1.4.0->scikit-plot) (0.12.1)\n",
      "Requirement already satisfied: fonttools>=4.22.0 in c:\\users\\andre\\appdata\\local\\programs\\python\\python311\\lib\\site-packages (from matplotlib>=1.4.0->scikit-plot) (4.53.0)\n",
      "Requirement already satisfied: kiwisolver>=1.3.1 in c:\\users\\andre\\appdata\\local\\programs\\python\\python311\\lib\\site-packages (from matplotlib>=1.4.0->scikit-plot) (1.4.5)\n",
      "Requirement already satisfied: numpy>=1.23 in c:\\users\\andre\\appdata\\local\\programs\\python\\python311\\lib\\site-packages (from matplotlib>=1.4.0->scikit-plot) (2.0.0)\n",
      "Requirement already satisfied: packaging>=20.0 in c:\\users\\andre\\appdata\\roaming\\python\\python311\\site-packages (from matplotlib>=1.4.0->scikit-plot) (24.1)\n",
      "Requirement already satisfied: pillow>=8 in c:\\users\\andre\\appdata\\local\\programs\\python\\python311\\lib\\site-packages (from matplotlib>=1.4.0->scikit-plot) (10.3.0)\n",
      "Requirement already satisfied: pyparsing>=2.3.1 in c:\\users\\andre\\appdata\\local\\programs\\python\\python311\\lib\\site-packages (from matplotlib>=1.4.0->scikit-plot) (3.1.2)\n",
      "Requirement already satisfied: python-dateutil>=2.7 in c:\\users\\andre\\appdata\\local\\programs\\python\\python311\\lib\\site-packages (from matplotlib>=1.4.0->scikit-plot) (2.9.0.post0)\n",
      "Requirement already satisfied: threadpoolctl>=3.1.0 in c:\\users\\andre\\appdata\\local\\programs\\python\\python311\\lib\\site-packages (from scikit-learn>=0.18->scikit-plot) (3.5.0)\n",
      "Requirement already satisfied: six>=1.5 in c:\\users\\andre\\appdata\\local\\programs\\python\\python311\\lib\\site-packages (from python-dateutil>=2.7->matplotlib>=1.4.0->scikit-plot) (1.16.0)\n"
     ]
    },
    {
     "name": "stderr",
     "output_type": "stream",
     "text": [
      "\n",
      "[notice] A new release of pip available: 22.3.1 -> 24.3.1\n",
      "[notice] To update, run: python.exe -m pip install --upgrade pip\n"
     ]
    },
    {
     "name": "stdout",
     "output_type": "stream",
     "text": [
      "Requirement already satisfied: graphviz in c:\\users\\andre\\appdata\\local\\programs\\python\\python311\\lib\\site-packages (0.20.3)\n"
     ]
    },
    {
     "name": "stderr",
     "output_type": "stream",
     "text": [
      "\n",
      "[notice] A new release of pip available: 22.3.1 -> 24.3.1\n",
      "[notice] To update, run: python.exe -m pip install --upgrade pip\n"
     ]
    },
    {
     "name": "stdout",
     "output_type": "stream",
     "text": [
      "Requirement already satisfied: pyarrow in c:\\users\\andre\\appdata\\local\\programs\\python\\python311\\lib\\site-packages (16.1.0)\n",
      "Requirement already satisfied: fastparquet in c:\\users\\andre\\appdata\\local\\programs\\python\\python311\\lib\\site-packages (2024.5.0)\n",
      "Requirement already satisfied: numpy>=1.16.6 in c:\\users\\andre\\appdata\\local\\programs\\python\\python311\\lib\\site-packages (from pyarrow) (2.0.0)\n",
      "Requirement already satisfied: pandas>=1.5.0 in c:\\users\\andre\\appdata\\local\\programs\\python\\python311\\lib\\site-packages (from fastparquet) (2.2.2)\n",
      "Requirement already satisfied: cramjam>=2.3 in c:\\users\\andre\\appdata\\local\\programs\\python\\python311\\lib\\site-packages (from fastparquet) (2.8.3)\n",
      "Requirement already satisfied: fsspec in c:\\users\\andre\\appdata\\local\\programs\\python\\python311\\lib\\site-packages (from fastparquet) (2024.6.1)\n",
      "Requirement already satisfied: packaging in c:\\users\\andre\\appdata\\roaming\\python\\python311\\site-packages (from fastparquet) (24.1)\n",
      "Requirement already satisfied: python-dateutil>=2.8.2 in c:\\users\\andre\\appdata\\local\\programs\\python\\python311\\lib\\site-packages (from pandas>=1.5.0->fastparquet) (2.9.0.post0)\n",
      "Requirement already satisfied: pytz>=2020.1 in c:\\users\\andre\\appdata\\local\\programs\\python\\python311\\lib\\site-packages (from pandas>=1.5.0->fastparquet) (2024.1)\n",
      "Requirement already satisfied: tzdata>=2022.7 in c:\\users\\andre\\appdata\\local\\programs\\python\\python311\\lib\\site-packages (from pandas>=1.5.0->fastparquet) (2024.1)\n",
      "Requirement already satisfied: six>=1.5 in c:\\users\\andre\\appdata\\local\\programs\\python\\python311\\lib\\site-packages (from python-dateutil>=2.8.2->pandas>=1.5.0->fastparquet) (1.16.0)\n",
      "Note: you may need to restart the kernel to use updated packages.\n"
     ]
    },
    {
     "name": "stderr",
     "output_type": "stream",
     "text": [
      "\n",
      "[notice] A new release of pip available: 22.3.1 -> 24.3.1\n",
      "[notice] To update, run: python.exe -m pip install --upgrade pip\n"
     ]
    }
   ],
   "source": [
    "#Instalación de librerías\n",
    "!pip install pandas\n",
    "!pip install numpy\n",
    "!pip install seaborn\n",
    "!pip install matplotlib\n",
    "!pip install scikit-learn\n",
    "!pip install scipy\n",
    "!pip install statsmodels\n",
    "!pip install imbalanced-learn\n",
    "!pip install scikit-plot\n",
    "!pip install graphviz\n",
    "%pip install pyarrow fastparquet"
   ]
  },
  {
   "cell_type": "code",
   "execution_count": 1,
   "metadata": {},
   "outputs": [],
   "source": [
    "#Datos\n",
    "import pandas as pd\n",
    "import numpy as np\n",
    "\n",
    "#Graficar\n",
    "import seaborn as sns\n",
    "import matplotlib.pyplot as plt\n",
    "#import matplotlib\n",
    "#import matplotlib.patches as patches\n",
    "\n",
    "\n",
    "# Generador de tablas de contingencia\n",
    "from pandas import crosstab\n",
    "from sklearn.metrics import mutual_info_score\n",
    "\n",
    "#Test chi-cuadrado\n",
    "from scipy.stats import chi2_contingency\n",
    "\n",
    "#Imputación\n",
    "from sklearn.impute import SimpleImputer\n",
    "#from sklearn.impute import KNNImputer\n",
    "\n",
    "\n",
    "#QQ\n",
    "import statsmodels.api as sm\n",
    "#Shapiro\n",
    "from scipy import stats\n",
    "\n",
    "#Escalamiento\n",
    "from sklearn.preprocessing import StandardScaler\n",
    "from sklearn.preprocessing import MinMaxScaler\n",
    "#from sklearn.preprocessing import RobustScaler\n",
    "\n",
    "#Transformación numérica\n",
    "#from sklearn.preprocessing import LabelEncoder\n",
    "\n",
    "#K-means\n",
    "from sklearn.cluster import KMeans\n",
    "from sklearn.metrics import silhouette_score\n",
    "\n",
    "#Outliers\n",
    "from sklearn.neighbors import LocalOutlierFactor\n",
    "from scipy.special import entr #Entropía\n",
    "\n",
    "#Balanceo\n",
    "from imblearn.over_sampling import SMOTE\n",
    "from imblearn.over_sampling import RandomOverSampler\n",
    "\n",
    "#Advertencias\n",
    "import warnings\n",
    "\n",
    "#Separación train-test\n",
    "from sklearn.model_selection import train_test_split\n",
    "from sklearn.model_selection import cross_validate\n",
    "from sklearn.model_selection import cross_val_score\n",
    "from sklearn.model_selection import cross_val_predict\n",
    "from sklearn.model_selection import GridSearchCV\n",
    "from sklearn.model_selection import ParameterGrid\n",
    "\n",
    "#Modelos\n",
    "from sklearn.linear_model import LogisticRegression\n",
    "from sklearn.ensemble import RandomForestClassifier\n",
    "from sklearn import svm\n",
    "from sklearn.svm import SVC\n",
    "from sklearn.neighbors import KNeighborsClassifier\n",
    "from sklearn.tree import DecisionTreeClassifier\n",
    "from sklearn.naive_bayes import ComplementNB\n",
    "from sklearn import neighbors\n",
    "from sklearn import tree\n",
    "from sklearn.neural_network import MLPClassifier\n",
    "from sklearn.tree import plot_tree\n",
    "import graphviz\n",
    "#from sklearn.tree import export_graphviz\n",
    "#from sklearn.naive_bayes import CategoricalNB\n",
    "\n",
    "#Métricas\n",
    "from sklearn import metrics\n",
    "from sklearn.metrics import precision_score\n",
    "from sklearn.metrics import confusion_matrix\n",
    "from sklearn.metrics import f1_score\n",
    "from sklearn.metrics import roc_auc_score\n",
    "from sklearn.metrics import roc_curve\n",
    "from sklearn.metrics import recall_score\n",
    "from sklearn.metrics import accuracy_score\n",
    "from sklearn.metrics import classification_report\n",
    "#from sklearn.metrics import calinski_harabasz_score\n",
    "#from sklearn.metrics import davies_bouldin_score\n",
    "#from sklearn.metrics import pairwise_distances\n",
    "\n",
    "from datetime import datetime, time\n",
    "\n",
    "#Otros\n",
    "\n",
    "#import io\n",
    "#import requests\n",
    "#from sklearn.model_selection import RepeatedKFold\n",
    "#from sklearn.inspection import permutation_importance\n",
    "#from sklearn import datasets\n",
    "#from sklearn.random_projection import johnson_lindenstrauss_min_dim, GaussianRandomProjection, SparseRandomProjection\n",
    "#from sklearn.decomposition import PCA\n",
    "#from sklearn.decomposition import KernelPCA\n",
    "#from sklearn.datasets import make_classification\n",
    "#from scipy import special\n",
    "#from scipy.stats import spearmanr\n",
    "#from scipy.spatial.distance import euclidean\n",
    "#from collections import defaultdict\n",
    "#from yellowbrick.cluster import KElbowVisualizer\n",
    "#from validclust.indices import dunn\n",
    "#from ds_utils.unsupervised import plot_cluster_cardinality, plot_cluster_magnitude, plot_magnitude_vs_cardinality\n",
    "\n",
    "import os"
   ]
  },
  {
   "cell_type": "code",
   "execution_count": 2,
   "metadata": {},
   "outputs": [],
   "source": [
    "#Lectura de datos desde vsc\n",
    "mtdataset = pd.read_csv('../data/raw/ventas-por-factura.csv')"
   ]
  },
  {
   "cell_type": "code",
   "execution_count": 4,
   "metadata": {},
   "outputs": [
    {
     "data": {
      "text/html": [
       "<div>\n",
       "<style scoped>\n",
       "    .dataframe tbody tr th:only-of-type {\n",
       "        vertical-align: middle;\n",
       "    }\n",
       "\n",
       "    .dataframe tbody tr th {\n",
       "        vertical-align: top;\n",
       "    }\n",
       "\n",
       "    .dataframe thead th {\n",
       "        text-align: right;\n",
       "    }\n",
       "</style>\n",
       "<table border=\"1\" class=\"dataframe\">\n",
       "  <thead>\n",
       "    <tr style=\"text-align: right;\">\n",
       "      <th></th>\n",
       "      <th>N° de factura</th>\n",
       "      <th>Fecha de factura</th>\n",
       "      <th>ID Cliente</th>\n",
       "      <th>País</th>\n",
       "      <th>Cantidad</th>\n",
       "      <th>Monto</th>\n",
       "    </tr>\n",
       "  </thead>\n",
       "  <tbody>\n",
       "    <tr>\n",
       "      <th>7952</th>\n",
       "      <td>539318</td>\n",
       "      <td>12/16/2020 19:09:00</td>\n",
       "      <td>12348.0</td>\n",
       "      <td>Finland</td>\n",
       "      <td>1254</td>\n",
       "      <td>892,80</td>\n",
       "    </tr>\n",
       "    <tr>\n",
       "      <th>13338</th>\n",
       "      <td>541998</td>\n",
       "      <td>1/25/2021 10:42:00</td>\n",
       "      <td>12348.0</td>\n",
       "      <td>Finland</td>\n",
       "      <td>601</td>\n",
       "      <td>227,44</td>\n",
       "    </tr>\n",
       "    <tr>\n",
       "      <th>24096</th>\n",
       "      <td>568172</td>\n",
       "      <td>9/25/2021 13:13:00</td>\n",
       "      <td>12348.0</td>\n",
       "      <td>Finland</td>\n",
       "      <td>217</td>\n",
       "      <td>310,00</td>\n",
       "    </tr>\n",
       "    <tr>\n",
       "      <th>24669</th>\n",
       "      <td>548955</td>\n",
       "      <td>4/5/2021 10:47:00</td>\n",
       "      <td>12348.0</td>\n",
       "      <td>Finland</td>\n",
       "      <td>269</td>\n",
       "      <td>367,00</td>\n",
       "    </tr>\n",
       "  </tbody>\n",
       "</table>\n",
       "</div>"
      ],
      "text/plain": [
       "      N° de factura     Fecha de factura  ID Cliente     País  Cantidad  \\\n",
       "7952         539318  12/16/2020 19:09:00     12348.0  Finland      1254   \n",
       "13338        541998   1/25/2021 10:42:00     12348.0  Finland       601   \n",
       "24096        568172   9/25/2021 13:13:00     12348.0  Finland       217   \n",
       "24669        548955    4/5/2021 10:47:00     12348.0  Finland       269   \n",
       "\n",
       "        Monto  \n",
       "7952   892,80  \n",
       "13338  227,44  \n",
       "24096  310,00  \n",
       "24669  367,00  "
      ]
     },
     "execution_count": 4,
     "metadata": {},
     "output_type": "execute_result"
    }
   ],
   "source": [
    "mtdataset[mtdataset['ID Cliente']==12348]"
   ]
  },
  {
   "cell_type": "code",
   "execution_count": 5,
   "metadata": {},
   "outputs": [
    {
     "data": {
      "text/plain": [
       "'9/9/2021 9:52:00'"
      ]
     },
     "execution_count": 5,
     "metadata": {},
     "output_type": "execute_result"
    }
   ],
   "source": [
    "mtdataset['Fecha de factura'].max()"
   ]
  },
  {
   "cell_type": "code",
   "execution_count": 6,
   "metadata": {},
   "outputs": [
    {
     "name": "stdout",
     "output_type": "stream",
     "text": [
      "<class 'pandas.core.frame.DataFrame'>\n",
      "RangeIndex: 25953 entries, 0 to 25952\n",
      "Data columns (total 6 columns):\n",
      " #   Column            Non-Null Count  Dtype  \n",
      "---  ------            --------------  -----  \n",
      " 0   N° de factura     25953 non-null  object \n",
      " 1   Fecha de factura  25953 non-null  object \n",
      " 2   ID Cliente        22229 non-null  float64\n",
      " 3   País              25953 non-null  object \n",
      " 4   Cantidad          25953 non-null  int64  \n",
      " 5   Monto             25953 non-null  object \n",
      "dtypes: float64(1), int64(1), object(4)\n",
      "memory usage: 1.2+ MB\n"
     ]
    }
   ],
   "source": [
    "mtdataset.info()"
   ]
  },
  {
   "cell_type": "code",
   "execution_count": 7,
   "metadata": {},
   "outputs": [],
   "source": [
    "mtdataset['Monto'] = mtdataset['Monto'].str.replace(',', '.').astype(float)"
   ]
  },
  {
   "cell_type": "code",
   "execution_count": 8,
   "metadata": {},
   "outputs": [],
   "source": [
    "mtdataset['Fecha de factura'] = pd.to_datetime(mtdataset['Fecha de factura'], format='%m/%d/%Y %H:%M:%S', dayfirst=True)"
   ]
  },
  {
   "cell_type": "code",
   "execution_count": 9,
   "metadata": {},
   "outputs": [
    {
     "name": "stdout",
     "output_type": "stream",
     "text": [
      "<class 'pandas.core.frame.DataFrame'>\n",
      "RangeIndex: 25953 entries, 0 to 25952\n",
      "Data columns (total 6 columns):\n",
      " #   Column            Non-Null Count  Dtype         \n",
      "---  ------            --------------  -----         \n",
      " 0   N° de factura     25953 non-null  object        \n",
      " 1   Fecha de factura  25953 non-null  datetime64[ns]\n",
      " 2   ID Cliente        22229 non-null  float64       \n",
      " 3   País              25953 non-null  object        \n",
      " 4   Cantidad          25953 non-null  int64         \n",
      " 5   Monto             25953 non-null  float64       \n",
      "dtypes: datetime64[ns](1), float64(2), int64(1), object(2)\n",
      "memory usage: 1.2+ MB\n"
     ]
    }
   ],
   "source": [
    "mtdataset.info()"
   ]
  },
  {
   "cell_type": "code",
   "execution_count": 10,
   "metadata": {},
   "outputs": [
    {
     "data": {
      "text/plain": [
       "Timestamp('2021-12-09 12:50:00')"
      ]
     },
     "execution_count": 10,
     "metadata": {},
     "output_type": "execute_result"
    }
   ],
   "source": [
    "mtdataset['Fecha de factura'].max()"
   ]
  },
  {
   "cell_type": "code",
   "execution_count": 11,
   "metadata": {},
   "outputs": [],
   "source": [
    "for i in mtdataset['Monto']:\n",
    "    mtdataset=float(i)"
   ]
  },
  {
   "cell_type": "code",
   "execution_count": 7,
   "metadata": {},
   "outputs": [
    {
     "data": {
      "text/html": [
       "<div>\n",
       "<style scoped>\n",
       "    .dataframe tbody tr th:only-of-type {\n",
       "        vertical-align: middle;\n",
       "    }\n",
       "\n",
       "    .dataframe tbody tr th {\n",
       "        vertical-align: top;\n",
       "    }\n",
       "\n",
       "    .dataframe thead th {\n",
       "        text-align: right;\n",
       "    }\n",
       "</style>\n",
       "<table border=\"1\" class=\"dataframe\">\n",
       "  <thead>\n",
       "    <tr style=\"text-align: right;\">\n",
       "      <th></th>\n",
       "      <th>N° de factura</th>\n",
       "      <th>Fecha de factura</th>\n",
       "      <th>ID Cliente</th>\n",
       "      <th>País</th>\n",
       "      <th>Cantidad</th>\n",
       "      <th>Monto</th>\n",
       "    </tr>\n",
       "  </thead>\n",
       "  <tbody>\n",
       "    <tr>\n",
       "      <th>7626</th>\n",
       "      <td>568403</td>\n",
       "      <td>2021-09-27 10:35:00</td>\n",
       "      <td>NaN</td>\n",
       "      <td>United Kingdom</td>\n",
       "      <td>-3</td>\n",
       "      <td>0.00</td>\n",
       "    </tr>\n",
       "    <tr>\n",
       "      <th>9728</th>\n",
       "      <td>C581390</td>\n",
       "      <td>2021-12-08 13:13:00</td>\n",
       "      <td>13081.0</td>\n",
       "      <td>United Kingdom</td>\n",
       "      <td>-13</td>\n",
       "      <td>-15.85</td>\n",
       "    </tr>\n",
       "    <tr>\n",
       "      <th>11263</th>\n",
       "      <td>568417</td>\n",
       "      <td>2021-09-27 11:10:00</td>\n",
       "      <td>14911.0</td>\n",
       "      <td>EIRE</td>\n",
       "      <td>202</td>\n",
       "      <td>776.30</td>\n",
       "    </tr>\n",
       "    <tr>\n",
       "      <th>12533</th>\n",
       "      <td>C581384</td>\n",
       "      <td>2021-12-08 13:06:00</td>\n",
       "      <td>17673.0</td>\n",
       "      <td>United Kingdom</td>\n",
       "      <td>-2</td>\n",
       "      <td>-6.90</td>\n",
       "    </tr>\n",
       "    <tr>\n",
       "      <th>13011</th>\n",
       "      <td>568423</td>\n",
       "      <td>2021-09-27 11:24:00</td>\n",
       "      <td>17061.0</td>\n",
       "      <td>United Kingdom</td>\n",
       "      <td>118</td>\n",
       "      <td>573.40</td>\n",
       "    </tr>\n",
       "    <tr>\n",
       "      <th>13054</th>\n",
       "      <td>568387</td>\n",
       "      <td>2021-09-27 10:04:00</td>\n",
       "      <td>13704.0</td>\n",
       "      <td>United Kingdom</td>\n",
       "      <td>340</td>\n",
       "      <td>422.32</td>\n",
       "    </tr>\n",
       "    <tr>\n",
       "      <th>15861</th>\n",
       "      <td>568384</td>\n",
       "      <td>2021-09-27 09:46:00</td>\n",
       "      <td>12748.0</td>\n",
       "      <td>United Kingdom</td>\n",
       "      <td>1</td>\n",
       "      <td>0.00</td>\n",
       "    </tr>\n",
       "    <tr>\n",
       "      <th>18795</th>\n",
       "      <td>C581323</td>\n",
       "      <td>2021-12-08 11:53:00</td>\n",
       "      <td>14442.0</td>\n",
       "      <td>Channel Islands</td>\n",
       "      <td>-1</td>\n",
       "      <td>-4.25</td>\n",
       "    </tr>\n",
       "    <tr>\n",
       "      <th>22578</th>\n",
       "      <td>C581330</td>\n",
       "      <td>2021-12-08 11:57:00</td>\n",
       "      <td>15877.0</td>\n",
       "      <td>United Kingdom</td>\n",
       "      <td>-125</td>\n",
       "      <td>-52.50</td>\n",
       "    </tr>\n",
       "    <tr>\n",
       "      <th>25704</th>\n",
       "      <td>568404</td>\n",
       "      <td>2021-09-27 10:36:00</td>\n",
       "      <td>NaN</td>\n",
       "      <td>United Kingdom</td>\n",
       "      <td>-17</td>\n",
       "      <td>0.00</td>\n",
       "    </tr>\n",
       "  </tbody>\n",
       "</table>\n",
       "</div>"
      ],
      "text/plain": [
       "      N° de factura    Fecha de factura  ID Cliente             País  \\\n",
       "7626         568403 2021-09-27 10:35:00         NaN   United Kingdom   \n",
       "9728        C581390 2021-12-08 13:13:00     13081.0   United Kingdom   \n",
       "11263        568417 2021-09-27 11:10:00     14911.0             EIRE   \n",
       "12533       C581384 2021-12-08 13:06:00     17673.0   United Kingdom   \n",
       "13011        568423 2021-09-27 11:24:00     17061.0   United Kingdom   \n",
       "13054        568387 2021-09-27 10:04:00     13704.0   United Kingdom   \n",
       "15861        568384 2021-09-27 09:46:00     12748.0   United Kingdom   \n",
       "18795       C581323 2021-12-08 11:53:00     14442.0  Channel Islands   \n",
       "22578       C581330 2021-12-08 11:57:00     15877.0   United Kingdom   \n",
       "25704        568404 2021-09-27 10:36:00         NaN   United Kingdom   \n",
       "\n",
       "       Cantidad   Monto  \n",
       "7626         -3    0.00  \n",
       "9728        -13  -15.85  \n",
       "11263       202  776.30  \n",
       "12533        -2   -6.90  \n",
       "13011       118  573.40  \n",
       "13054       340  422.32  \n",
       "15861         1    0.00  \n",
       "18795        -1   -4.25  \n",
       "22578      -125  -52.50  \n",
       "25704       -17    0.00  "
      ]
     },
     "execution_count": 7,
     "metadata": {},
     "output_type": "execute_result"
    }
   ],
   "source": [
    "#Buscamos duplicados\n",
    "mtdataset.loc[mtdataset.duplicated()]"
   ]
  },
  {
   "cell_type": "code",
   "execution_count": 8,
   "metadata": {},
   "outputs": [],
   "source": [
    "mtdataset.drop_duplicates(inplace=True)"
   ]
  },
  {
   "cell_type": "code",
   "execution_count": 9,
   "metadata": {},
   "outputs": [
    {
     "data": {
      "text/html": [
       "<div>\n",
       "<style scoped>\n",
       "    .dataframe tbody tr th:only-of-type {\n",
       "        vertical-align: middle;\n",
       "    }\n",
       "\n",
       "    .dataframe tbody tr th {\n",
       "        vertical-align: top;\n",
       "    }\n",
       "\n",
       "    .dataframe thead th {\n",
       "        text-align: right;\n",
       "    }\n",
       "</style>\n",
       "<table border=\"1\" class=\"dataframe\">\n",
       "  <thead>\n",
       "    <tr style=\"text-align: right;\">\n",
       "      <th></th>\n",
       "      <th>N° de factura</th>\n",
       "      <th>Fecha de factura</th>\n",
       "      <th>ID Cliente</th>\n",
       "      <th>País</th>\n",
       "      <th>Cantidad</th>\n",
       "      <th>Monto</th>\n",
       "    </tr>\n",
       "  </thead>\n",
       "  <tbody>\n",
       "  </tbody>\n",
       "</table>\n",
       "</div>"
      ],
      "text/plain": [
       "Empty DataFrame\n",
       "Columns: [N° de factura, Fecha de factura, ID Cliente, País, Cantidad, Monto]\n",
       "Index: []"
      ]
     },
     "execution_count": 9,
     "metadata": {},
     "output_type": "execute_result"
    }
   ],
   "source": [
    "mtdataset.loc[mtdataset.duplicated()]"
   ]
  },
  {
   "cell_type": "code",
   "execution_count": 10,
   "metadata": {},
   "outputs": [],
   "source": [
    "mtdataset=mtdataset.dropna()"
   ]
  },
  {
   "cell_type": "code",
   "execution_count": 11,
   "metadata": {},
   "outputs": [
    {
     "name": "stdout",
     "output_type": "stream",
     "text": [
      "<class 'pandas.core.frame.DataFrame'>\n",
      "Index: 22221 entries, 0 to 25951\n",
      "Data columns (total 6 columns):\n",
      " #   Column            Non-Null Count  Dtype         \n",
      "---  ------            --------------  -----         \n",
      " 0   N° de factura     22221 non-null  object        \n",
      " 1   Fecha de factura  22221 non-null  datetime64[ns]\n",
      " 2   ID Cliente        22221 non-null  float64       \n",
      " 3   País              22221 non-null  object        \n",
      " 4   Cantidad          22221 non-null  int64         \n",
      " 5   Monto             22221 non-null  float64       \n",
      "dtypes: datetime64[ns](1), float64(2), int64(1), object(2)\n",
      "memory usage: 1.2+ MB\n"
     ]
    }
   ],
   "source": [
    "mtdataset.info()"
   ]
  },
  {
   "cell_type": "code",
   "execution_count": 12,
   "metadata": {},
   "outputs": [
    {
     "data": {
      "text/html": [
       "<div>\n",
       "<style scoped>\n",
       "    .dataframe tbody tr th:only-of-type {\n",
       "        vertical-align: middle;\n",
       "    }\n",
       "\n",
       "    .dataframe tbody tr th {\n",
       "        vertical-align: top;\n",
       "    }\n",
       "\n",
       "    .dataframe thead th {\n",
       "        text-align: right;\n",
       "    }\n",
       "</style>\n",
       "<table border=\"1\" class=\"dataframe\">\n",
       "  <thead>\n",
       "    <tr style=\"text-align: right;\">\n",
       "      <th></th>\n",
       "      <th>N° de factura</th>\n",
       "      <th>Fecha de factura</th>\n",
       "      <th>ID Cliente</th>\n",
       "      <th>País</th>\n",
       "      <th>Cantidad</th>\n",
       "      <th>Monto</th>\n",
       "    </tr>\n",
       "  </thead>\n",
       "  <tbody>\n",
       "    <tr>\n",
       "      <th>3668</th>\n",
       "      <td>564651</td>\n",
       "      <td>2021-08-26 14:19:00</td>\n",
       "      <td>14646.0</td>\n",
       "      <td>Netherlands</td>\n",
       "      <td>576</td>\n",
       "      <td>0.0</td>\n",
       "    </tr>\n",
       "    <tr>\n",
       "      <th>4752</th>\n",
       "      <td>543599</td>\n",
       "      <td>2021-02-10 13:08:00</td>\n",
       "      <td>17560.0</td>\n",
       "      <td>United Kingdom</td>\n",
       "      <td>16</td>\n",
       "      <td>0.0</td>\n",
       "    </tr>\n",
       "    <tr>\n",
       "      <th>12491</th>\n",
       "      <td>578841</td>\n",
       "      <td>2021-11-25 15:57:00</td>\n",
       "      <td>13256.0</td>\n",
       "      <td>United Kingdom</td>\n",
       "      <td>12540</td>\n",
       "      <td>0.0</td>\n",
       "    </tr>\n",
       "    <tr>\n",
       "      <th>15195</th>\n",
       "      <td>568384</td>\n",
       "      <td>2021-09-27 09:46:00</td>\n",
       "      <td>12748.0</td>\n",
       "      <td>United Kingdom</td>\n",
       "      <td>1</td>\n",
       "      <td>0.0</td>\n",
       "    </tr>\n",
       "  </tbody>\n",
       "</table>\n",
       "</div>"
      ],
      "text/plain": [
       "      N° de factura    Fecha de factura  ID Cliente            País  Cantidad  \\\n",
       "3668         564651 2021-08-26 14:19:00     14646.0     Netherlands       576   \n",
       "4752         543599 2021-02-10 13:08:00     17560.0  United Kingdom        16   \n",
       "12491        578841 2021-11-25 15:57:00     13256.0  United Kingdom     12540   \n",
       "15195        568384 2021-09-27 09:46:00     12748.0  United Kingdom         1   \n",
       "\n",
       "       Monto  \n",
       "3668     0.0  \n",
       "4752     0.0  \n",
       "12491    0.0  \n",
       "15195    0.0  "
      ]
     },
     "execution_count": 12,
     "metadata": {},
     "output_type": "execute_result"
    }
   ],
   "source": [
    "mtdataset[mtdataset['Monto']==0]"
   ]
  },
  {
   "cell_type": "code",
   "execution_count": 13,
   "metadata": {},
   "outputs": [],
   "source": [
    "mtdataset=mtdataset[mtdataset['Monto']!=0]"
   ]
  },
  {
   "cell_type": "code",
   "execution_count": 16,
   "metadata": {},
   "outputs": [
    {
     "data": {
      "text/html": [
       "<div>\n",
       "<style scoped>\n",
       "    .dataframe tbody tr th:only-of-type {\n",
       "        vertical-align: middle;\n",
       "    }\n",
       "\n",
       "    .dataframe tbody tr th {\n",
       "        vertical-align: top;\n",
       "    }\n",
       "\n",
       "    .dataframe thead th {\n",
       "        text-align: right;\n",
       "    }\n",
       "</style>\n",
       "<table border=\"1\" class=\"dataframe\">\n",
       "  <thead>\n",
       "    <tr style=\"text-align: right;\">\n",
       "      <th></th>\n",
       "      <th>N° de factura</th>\n",
       "      <th>Fecha de factura</th>\n",
       "      <th>ID Cliente</th>\n",
       "      <th>País</th>\n",
       "      <th>Cantidad</th>\n",
       "      <th>Monto</th>\n",
       "    </tr>\n",
       "  </thead>\n",
       "  <tbody>\n",
       "    <tr>\n",
       "      <th>0</th>\n",
       "      <td>548370</td>\n",
       "      <td>2021-03-30 16:14:00</td>\n",
       "      <td>15528.0</td>\n",
       "      <td>United Kingdom</td>\n",
       "      <td>123</td>\n",
       "      <td>229.33</td>\n",
       "    </tr>\n",
       "    <tr>\n",
       "      <th>1</th>\n",
       "      <td>575767</td>\n",
       "      <td>2021-11-11 11:11:00</td>\n",
       "      <td>17348.0</td>\n",
       "      <td>United Kingdom</td>\n",
       "      <td>163</td>\n",
       "      <td>209.73</td>\n",
       "    </tr>\n",
       "    <tr>\n",
       "      <th>3</th>\n",
       "      <td>549106</td>\n",
       "      <td>2021-04-06 12:08:00</td>\n",
       "      <td>17045.0</td>\n",
       "      <td>United Kingdom</td>\n",
       "      <td>1</td>\n",
       "      <td>39.95</td>\n",
       "    </tr>\n",
       "    <tr>\n",
       "      <th>4</th>\n",
       "      <td>573112</td>\n",
       "      <td>2021-10-27 15:33:00</td>\n",
       "      <td>16416.0</td>\n",
       "      <td>United Kingdom</td>\n",
       "      <td>357</td>\n",
       "      <td>344.83</td>\n",
       "    </tr>\n",
       "    <tr>\n",
       "      <th>5</th>\n",
       "      <td>576630</td>\n",
       "      <td>2021-11-16 08:38:00</td>\n",
       "      <td>13816.0</td>\n",
       "      <td>Germany</td>\n",
       "      <td>91</td>\n",
       "      <td>199.98</td>\n",
       "    </tr>\n",
       "    <tr>\n",
       "      <th>...</th>\n",
       "      <td>...</td>\n",
       "      <td>...</td>\n",
       "      <td>...</td>\n",
       "      <td>...</td>\n",
       "      <td>...</td>\n",
       "      <td>...</td>\n",
       "    </tr>\n",
       "    <tr>\n",
       "      <th>25945</th>\n",
       "      <td>579252</td>\n",
       "      <td>2021-11-28 16:47:00</td>\n",
       "      <td>17450.0</td>\n",
       "      <td>United Kingdom</td>\n",
       "      <td>432</td>\n",
       "      <td>1034.40</td>\n",
       "    </tr>\n",
       "    <tr>\n",
       "      <th>25946</th>\n",
       "      <td>574908</td>\n",
       "      <td>2021-11-07 15:37:00</td>\n",
       "      <td>16009.0</td>\n",
       "      <td>United Kingdom</td>\n",
       "      <td>28</td>\n",
       "      <td>82.76</td>\n",
       "    </tr>\n",
       "    <tr>\n",
       "      <th>25949</th>\n",
       "      <td>553060</td>\n",
       "      <td>2021-05-13 10:44:00</td>\n",
       "      <td>15826.0</td>\n",
       "      <td>United Kingdom</td>\n",
       "      <td>488</td>\n",
       "      <td>720.00</td>\n",
       "    </tr>\n",
       "    <tr>\n",
       "      <th>25950</th>\n",
       "      <td>577049</td>\n",
       "      <td>2021-11-17 13:58:00</td>\n",
       "      <td>17397.0</td>\n",
       "      <td>United Kingdom</td>\n",
       "      <td>104</td>\n",
       "      <td>298.78</td>\n",
       "    </tr>\n",
       "    <tr>\n",
       "      <th>25951</th>\n",
       "      <td>550122</td>\n",
       "      <td>2021-04-14 12:39:00</td>\n",
       "      <td>12931.0</td>\n",
       "      <td>United Kingdom</td>\n",
       "      <td>1176</td>\n",
       "      <td>1488.00</td>\n",
       "    </tr>\n",
       "  </tbody>\n",
       "</table>\n",
       "<p>18562 rows × 6 columns</p>\n",
       "</div>"
      ],
      "text/plain": [
       "      N° de factura    Fecha de factura  ID Cliente            País  Cantidad  \\\n",
       "0            548370 2021-03-30 16:14:00     15528.0  United Kingdom       123   \n",
       "1            575767 2021-11-11 11:11:00     17348.0  United Kingdom       163   \n",
       "3            549106 2021-04-06 12:08:00     17045.0  United Kingdom         1   \n",
       "4            573112 2021-10-27 15:33:00     16416.0  United Kingdom       357   \n",
       "5            576630 2021-11-16 08:38:00     13816.0         Germany        91   \n",
       "...             ...                 ...         ...             ...       ...   \n",
       "25945        579252 2021-11-28 16:47:00     17450.0  United Kingdom       432   \n",
       "25946        574908 2021-11-07 15:37:00     16009.0  United Kingdom        28   \n",
       "25949        553060 2021-05-13 10:44:00     15826.0  United Kingdom       488   \n",
       "25950        577049 2021-11-17 13:58:00     17397.0  United Kingdom       104   \n",
       "25951        550122 2021-04-14 12:39:00     12931.0  United Kingdom      1176   \n",
       "\n",
       "         Monto  \n",
       "0       229.33  \n",
       "1       209.73  \n",
       "3        39.95  \n",
       "4       344.83  \n",
       "5       199.98  \n",
       "...        ...  \n",
       "25945  1034.40  \n",
       "25946    82.76  \n",
       "25949   720.00  \n",
       "25950   298.78  \n",
       "25951  1488.00  \n",
       "\n",
       "[18562 rows x 6 columns]"
      ]
     },
     "execution_count": 16,
     "metadata": {},
     "output_type": "execute_result"
    }
   ],
   "source": [
    "mtdataset[mtdataset['Monto']>0]"
   ]
  },
  {
   "cell_type": "code",
   "execution_count": 17,
   "metadata": {},
   "outputs": [],
   "source": [
    "mtdataset=mtdataset[mtdataset['Monto']>0]"
   ]
  },
  {
   "cell_type": "code",
   "execution_count": 18,
   "metadata": {},
   "outputs": [
    {
     "name": "stdout",
     "output_type": "stream",
     "text": [
      "<class 'pandas.core.frame.DataFrame'>\n",
      "Index: 18562 entries, 0 to 25951\n",
      "Data columns (total 6 columns):\n",
      " #   Column            Non-Null Count  Dtype         \n",
      "---  ------            --------------  -----         \n",
      " 0   N° de factura     18562 non-null  object        \n",
      " 1   Fecha de factura  18562 non-null  datetime64[ns]\n",
      " 2   ID Cliente        18562 non-null  float64       \n",
      " 3   País              18562 non-null  object        \n",
      " 4   Cantidad          18562 non-null  int64         \n",
      " 5   Monto             18562 non-null  float64       \n",
      "dtypes: datetime64[ns](1), float64(2), int64(1), object(2)\n",
      "memory usage: 1015.1+ KB\n"
     ]
    }
   ],
   "source": [
    "mtdataset.info()"
   ]
  },
  {
   "cell_type": "code",
   "execution_count": 21,
   "metadata": {},
   "outputs": [
    {
     "data": {
      "text/html": [
       "<div>\n",
       "<style scoped>\n",
       "    .dataframe tbody tr th:only-of-type {\n",
       "        vertical-align: middle;\n",
       "    }\n",
       "\n",
       "    .dataframe tbody tr th {\n",
       "        vertical-align: top;\n",
       "    }\n",
       "\n",
       "    .dataframe thead th {\n",
       "        text-align: right;\n",
       "    }\n",
       "</style>\n",
       "<table border=\"1\" class=\"dataframe\">\n",
       "  <thead>\n",
       "    <tr style=\"text-align: right;\">\n",
       "      <th></th>\n",
       "      <th>N° de factura</th>\n",
       "      <th>Fecha de factura</th>\n",
       "      <th>ID Cliente</th>\n",
       "      <th>País</th>\n",
       "      <th>Cantidad</th>\n",
       "      <th>Monto</th>\n",
       "    </tr>\n",
       "  </thead>\n",
       "  <tbody>\n",
       "  </tbody>\n",
       "</table>\n",
       "</div>"
      ],
      "text/plain": [
       "Empty DataFrame\n",
       "Columns: [N° de factura, Fecha de factura, ID Cliente, País, Cantidad, Monto]\n",
       "Index: []"
      ]
     },
     "execution_count": 21,
     "metadata": {},
     "output_type": "execute_result"
    }
   ],
   "source": [
    "mtdataset[mtdataset['Cantidad']<0]"
   ]
  },
  {
   "cell_type": "code",
   "execution_count": 22,
   "metadata": {},
   "outputs": [
    {
     "name": "stdout",
     "output_type": "stream",
     "text": [
      "<class 'pandas.core.frame.DataFrame'>\n",
      "Index: 18562 entries, 0 to 25951\n",
      "Data columns (total 6 columns):\n",
      " #   Column            Non-Null Count  Dtype         \n",
      "---  ------            --------------  -----         \n",
      " 0   N° de factura     18562 non-null  object        \n",
      " 1   Fecha de factura  18562 non-null  datetime64[ns]\n",
      " 2   ID Cliente        18562 non-null  float64       \n",
      " 3   País              18562 non-null  object        \n",
      " 4   Cantidad          18562 non-null  int64         \n",
      " 5   Monto             18562 non-null  float64       \n",
      "dtypes: datetime64[ns](1), float64(2), int64(1), object(2)\n",
      "memory usage: 1015.1+ KB\n"
     ]
    }
   ],
   "source": [
    "mtdataset.info()"
   ]
  },
  {
   "cell_type": "code",
   "execution_count": 23,
   "metadata": {},
   "outputs": [
    {
     "name": "stdout",
     "output_type": "stream",
     "text": [
      "N° de factura\n",
      "554116    2\n",
      "553556    2\n",
      "576057    2\n",
      "543777    2\n",
      "546986    2\n",
      "         ..\n",
      "562220    1\n",
      "562002    1\n",
      "538010    1\n",
      "579089    1\n",
      "575767    1\n",
      "Name: count, Length: 18532, dtype: int64 \n",
      " \n",
      "\n",
      "Fecha de factura\n",
      "2021-05-26 14:09:00    4\n",
      "2021-10-21 14:41:00    4\n",
      "2021-08-04 12:14:00    3\n",
      "2021-10-20 14:33:00    3\n",
      "2021-10-26 13:31:00    3\n",
      "                      ..\n",
      "2021-11-10 11:06:00    1\n",
      "2021-09-06 10:42:00    1\n",
      "2021-08-03 14:19:00    1\n",
      "2021-08-01 13:48:00    1\n",
      "2020-12-09 12:20:00    1\n",
      "Name: count, Length: 17282, dtype: int64 \n",
      " \n",
      "\n",
      "ID Cliente\n",
      "12748.0    210\n",
      "14911.0    202\n",
      "17841.0    124\n",
      "13089.0     97\n",
      "14606.0     95\n",
      "          ... \n",
      "12425.0      1\n",
      "13485.0      1\n",
      "16222.0      1\n",
      "14212.0      1\n",
      "14349.0      1\n",
      "Name: count, Length: 4338, dtype: int64 \n",
      " \n",
      "\n",
      "País\n",
      "United Kingdom          16673\n",
      "Germany                   457\n",
      "France                    390\n",
      "EIRE                      261\n",
      "Belgium                    98\n",
      "Netherlands                94\n",
      "Spain                      90\n",
      "Australia                  57\n",
      "Portugal                   57\n",
      "Switzerland                51\n",
      "Finland                    41\n",
      "Italy                      38\n",
      "Sweden                     36\n",
      "Norway                     36\n",
      "Channel Islands            26\n",
      "Japan                      20\n",
      "Poland                     19\n",
      "Denmark                    18\n",
      "Austria                    17\n",
      "Cyprus                     16\n",
      "Unspecified                 8\n",
      "Iceland                     7\n",
      "Singapore                   7\n",
      "Canada                      6\n",
      "Israel                      5\n",
      "Greece                      5\n",
      "USA                         5\n",
      "Malta                       5\n",
      "European Community          4\n",
      "Lithuania                   4\n",
      "United Arab Emirates        3\n",
      "Czech Republic              2\n",
      "Bahrain                     2\n",
      "Lebanon                     1\n",
      "Brazil                      1\n",
      "RSA                         1\n",
      "Saudi Arabia                1\n",
      "Name: count, dtype: int64 \n",
      " \n",
      "\n",
      "Cantidad\n",
      "1       194\n",
      "12      190\n",
      "24      185\n",
      "48      151\n",
      "72      136\n",
      "       ... \n",
      "760       1\n",
      "596       1\n",
      "529       1\n",
      "1325      1\n",
      "1196      1\n",
      "Name: count, Length: 1393, dtype: int64 \n",
      " \n",
      "\n",
      "Monto\n",
      "15.00     57\n",
      "30.00     22\n",
      "17.40     21\n",
      "102.00    21\n",
      "22.20     17\n",
      "          ..\n",
      "199.98     1\n",
      "321.35     1\n",
      "91.68      1\n",
      "530.15     1\n",
      "132.90     1\n",
      "Name: count, Length: 14742, dtype: int64 \n",
      " \n",
      "\n"
     ]
    }
   ],
   "source": [
    "#En busca de calidad en los datos\n",
    "for i in mtdataset.columns:\n",
    "    print(mtdataset[i].value_counts(), \"\\n\", \"\\n\")"
   ]
  },
  {
   "cell_type": "code",
   "execution_count": 24,
   "metadata": {},
   "outputs": [
    {
     "data": {
      "text/html": [
       "<div>\n",
       "<style scoped>\n",
       "    .dataframe tbody tr th:only-of-type {\n",
       "        vertical-align: middle;\n",
       "    }\n",
       "\n",
       "    .dataframe tbody tr th {\n",
       "        vertical-align: top;\n",
       "    }\n",
       "\n",
       "    .dataframe thead th {\n",
       "        text-align: right;\n",
       "    }\n",
       "</style>\n",
       "<table border=\"1\" class=\"dataframe\">\n",
       "  <thead>\n",
       "    <tr style=\"text-align: right;\">\n",
       "      <th></th>\n",
       "      <th>N° de factura</th>\n",
       "      <th>Fecha de factura</th>\n",
       "      <th>ID Cliente</th>\n",
       "      <th>País</th>\n",
       "      <th>Cantidad</th>\n",
       "      <th>Monto</th>\n",
       "    </tr>\n",
       "  </thead>\n",
       "  <tbody>\n",
       "  </tbody>\n",
       "</table>\n",
       "</div>"
      ],
      "text/plain": [
       "Empty DataFrame\n",
       "Columns: [N° de factura, Fecha de factura, ID Cliente, País, Cantidad, Monto]\n",
       "Index: []"
      ]
     },
     "execution_count": 24,
     "metadata": {},
     "output_type": "execute_result"
    }
   ],
   "source": [
    "mtdataset[mtdataset['Cantidad']==-1]"
   ]
  },
  {
   "cell_type": "code",
   "execution_count": 25,
   "metadata": {},
   "outputs": [
    {
     "data": {
      "text/html": [
       "<div>\n",
       "<style scoped>\n",
       "    .dataframe tbody tr th:only-of-type {\n",
       "        vertical-align: middle;\n",
       "    }\n",
       "\n",
       "    .dataframe tbody tr th {\n",
       "        vertical-align: top;\n",
       "    }\n",
       "\n",
       "    .dataframe thead th {\n",
       "        text-align: right;\n",
       "    }\n",
       "</style>\n",
       "<table border=\"1\" class=\"dataframe\">\n",
       "  <thead>\n",
       "    <tr style=\"text-align: right;\">\n",
       "      <th></th>\n",
       "      <th>N° de factura</th>\n",
       "      <th>Fecha de factura</th>\n",
       "      <th>ID Cliente</th>\n",
       "      <th>País</th>\n",
       "      <th>Cantidad</th>\n",
       "      <th>Monto</th>\n",
       "    </tr>\n",
       "  </thead>\n",
       "  <tbody>\n",
       "  </tbody>\n",
       "</table>\n",
       "</div>"
      ],
      "text/plain": [
       "Empty DataFrame\n",
       "Columns: [N° de factura, Fecha de factura, ID Cliente, País, Cantidad, Monto]\n",
       "Index: []"
      ]
     },
     "execution_count": 25,
     "metadata": {},
     "output_type": "execute_result"
    }
   ],
   "source": [
    "a=mtdataset[(mtdataset['Cantidad'] < 0) & (mtdataset['Monto'] < 0)]\n",
    "a"
   ]
  },
  {
   "cell_type": "code",
   "execution_count": 26,
   "metadata": {},
   "outputs": [
    {
     "name": "stdout",
     "output_type": "stream",
     "text": [
      "Series([], Name: count, dtype: int64) \n",
      " \n",
      "\n",
      "Series([], Name: count, dtype: int64) \n",
      " \n",
      "\n",
      "Series([], Name: count, dtype: int64) \n",
      " \n",
      "\n",
      "Series([], Name: count, dtype: int64) \n",
      " \n",
      "\n",
      "Series([], Name: count, dtype: int64) \n",
      " \n",
      "\n",
      "Series([], Name: count, dtype: int64) \n",
      " \n",
      "\n"
     ]
    }
   ],
   "source": [
    "for i in a.columns:\n",
    "    print(a[i].value_counts(), \"\\n\", \"\\n\")"
   ]
  },
  {
   "cell_type": "code",
   "execution_count": 27,
   "metadata": {},
   "outputs": [
    {
     "data": {
      "text/plain": [
       "Series([], Name: count, dtype: int64)"
      ]
     },
     "execution_count": 27,
     "metadata": {},
     "output_type": "execute_result"
    }
   ],
   "source": [
    "a['ID Cliente'].value_counts()"
   ]
  },
  {
   "cell_type": "code",
   "execution_count": 28,
   "metadata": {},
   "outputs": [
    {
     "data": {
      "text/plain": [
       "N° de factura       0\n",
       "Fecha de factura    0\n",
       "ID Cliente          0\n",
       "País                0\n",
       "Cantidad            0\n",
       "Monto               0\n",
       "dtype: int64"
      ]
     },
     "execution_count": 28,
     "metadata": {},
     "output_type": "execute_result"
    }
   ],
   "source": [
    "mtdataset.isnull().sum()"
   ]
  },
  {
   "cell_type": "code",
   "execution_count": 29,
   "metadata": {},
   "outputs": [],
   "source": [
    "mtdatasetnull=mtdataset[mtdataset.isnull().any(axis=1)]"
   ]
  },
  {
   "cell_type": "code",
   "execution_count": 30,
   "metadata": {},
   "outputs": [
    {
     "data": {
      "text/html": [
       "<div>\n",
       "<style scoped>\n",
       "    .dataframe tbody tr th:only-of-type {\n",
       "        vertical-align: middle;\n",
       "    }\n",
       "\n",
       "    .dataframe tbody tr th {\n",
       "        vertical-align: top;\n",
       "    }\n",
       "\n",
       "    .dataframe thead th {\n",
       "        text-align: right;\n",
       "    }\n",
       "</style>\n",
       "<table border=\"1\" class=\"dataframe\">\n",
       "  <thead>\n",
       "    <tr style=\"text-align: right;\">\n",
       "      <th></th>\n",
       "      <th>N° de factura</th>\n",
       "      <th>Fecha de factura</th>\n",
       "      <th>ID Cliente</th>\n",
       "      <th>País</th>\n",
       "      <th>Cantidad</th>\n",
       "      <th>Monto</th>\n",
       "    </tr>\n",
       "  </thead>\n",
       "  <tbody>\n",
       "  </tbody>\n",
       "</table>\n",
       "</div>"
      ],
      "text/plain": [
       "Empty DataFrame\n",
       "Columns: [N° de factura, Fecha de factura, ID Cliente, País, Cantidad, Monto]\n",
       "Index: []"
      ]
     },
     "execution_count": 30,
     "metadata": {},
     "output_type": "execute_result"
    }
   ],
   "source": [
    "mtdatasetnull"
   ]
  },
  {
   "cell_type": "code",
   "execution_count": 31,
   "metadata": {},
   "outputs": [
    {
     "data": {
      "text/plain": [
       "0"
      ]
     },
     "execution_count": 31,
     "metadata": {},
     "output_type": "execute_result"
    }
   ],
   "source": [
    "mtdataset_cantidad=len(mtdataset[mtdataset['Cantidad'] < 0])\n",
    "mtdataset_cantidad"
   ]
  },
  {
   "cell_type": "code",
   "execution_count": 32,
   "metadata": {},
   "outputs": [
    {
     "data": {
      "text/plain": [
       "0"
      ]
     },
     "execution_count": 32,
     "metadata": {},
     "output_type": "execute_result"
    }
   ],
   "source": [
    "mtdataset_monto=len(mtdataset[mtdataset['Monto'] < 0])\n",
    "mtdataset_monto"
   ]
  },
  {
   "cell_type": "code",
   "execution_count": 33,
   "metadata": {},
   "outputs": [
    {
     "data": {
      "text/html": [
       "<div>\n",
       "<style scoped>\n",
       "    .dataframe tbody tr th:only-of-type {\n",
       "        vertical-align: middle;\n",
       "    }\n",
       "\n",
       "    .dataframe tbody tr th {\n",
       "        vertical-align: top;\n",
       "    }\n",
       "\n",
       "    .dataframe thead th {\n",
       "        text-align: right;\n",
       "    }\n",
       "</style>\n",
       "<table border=\"1\" class=\"dataframe\">\n",
       "  <thead>\n",
       "    <tr style=\"text-align: right;\">\n",
       "      <th></th>\n",
       "      <th>N° de factura</th>\n",
       "      <th>Fecha de factura</th>\n",
       "      <th>ID Cliente</th>\n",
       "      <th>País</th>\n",
       "      <th>Cantidad</th>\n",
       "      <th>Monto</th>\n",
       "    </tr>\n",
       "  </thead>\n",
       "  <tbody>\n",
       "  </tbody>\n",
       "</table>\n",
       "</div>"
      ],
      "text/plain": [
       "Empty DataFrame\n",
       "Columns: [N° de factura, Fecha de factura, ID Cliente, País, Cantidad, Monto]\n",
       "Index: []"
      ]
     },
     "execution_count": 33,
     "metadata": {},
     "output_type": "execute_result"
    }
   ],
   "source": [
    "a[a['Monto']<0]"
   ]
  },
  {
   "cell_type": "code",
   "execution_count": 34,
   "metadata": {},
   "outputs": [],
   "source": [
    "mtdataset.to_parquet('../data/processed/preprocesamiento_mtdataset.parquet')"
   ]
  }
 ],
 "metadata": {
  "kernelspec": {
   "display_name": "Python 3",
   "language": "python",
   "name": "python3"
  },
  "language_info": {
   "codemirror_mode": {
    "name": "ipython",
    "version": 3
   },
   "file_extension": ".py",
   "mimetype": "text/x-python",
   "name": "python",
   "nbconvert_exporter": "python",
   "pygments_lexer": "ipython3",
   "version": "3.11.1"
  }
 },
 "nbformat": 4,
 "nbformat_minor": 2
}
