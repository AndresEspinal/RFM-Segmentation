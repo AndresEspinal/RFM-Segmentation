{
 "cells": [
  {
   "cell_type": "code",
   "execution_count": 1,
   "metadata": {},
   "outputs": [],
   "source": [
    "import pandas as pd\n",
    "from datetime import datetime, time\n",
    "import numpy as np"
   ]
  },
  {
   "cell_type": "code",
   "execution_count": 2,
   "metadata": {},
   "outputs": [],
   "source": [
    "import sys\n",
    "import os\n",
    "sys.path.append(os.path.abspath('../scripts'))"
   ]
  },
  {
   "cell_type": "code",
   "execution_count": 3,
   "metadata": {},
   "outputs": [],
   "source": [
    "from dataraw1 import DateFormat"
   ]
  },
  {
   "cell_type": "code",
   "execution_count": 5,
   "metadata": {},
   "outputs": [],
   "source": [
    "mtdataset = pd.read_csv('../data/raw/ventas-por-factura.csv')"
   ]
  },
  {
   "cell_type": "code",
   "execution_count": 6,
   "metadata": {},
   "outputs": [],
   "source": [
    "data=DateFormat('Monto', mtdataset, 'Fecha de factura')\n"
   ]
  },
  {
   "cell_type": "code",
   "execution_count": 7,
   "metadata": {},
   "outputs": [],
   "source": [
    "mtdataset=data.ejec_dateformat()"
   ]
  },
  {
   "cell_type": "code",
   "execution_count": 8,
   "metadata": {},
   "outputs": [
    {
     "data": {
      "text/html": [
       "<div>\n",
       "<style scoped>\n",
       "    .dataframe tbody tr th:only-of-type {\n",
       "        vertical-align: middle;\n",
       "    }\n",
       "\n",
       "    .dataframe tbody tr th {\n",
       "        vertical-align: top;\n",
       "    }\n",
       "\n",
       "    .dataframe thead th {\n",
       "        text-align: right;\n",
       "    }\n",
       "</style>\n",
       "<table border=\"1\" class=\"dataframe\">\n",
       "  <thead>\n",
       "    <tr style=\"text-align: right;\">\n",
       "      <th></th>\n",
       "      <th>N° de factura</th>\n",
       "      <th>Fecha de factura</th>\n",
       "      <th>ID Cliente</th>\n",
       "      <th>País</th>\n",
       "      <th>Cantidad</th>\n",
       "      <th>Monto</th>\n",
       "    </tr>\n",
       "  </thead>\n",
       "  <tbody>\n",
       "    <tr>\n",
       "      <th>0</th>\n",
       "      <td>548370</td>\n",
       "      <td>2021-03-30 16:14:00</td>\n",
       "      <td>15528.0</td>\n",
       "      <td>United Kingdom</td>\n",
       "      <td>123</td>\n",
       "      <td>229.33</td>\n",
       "    </tr>\n",
       "    <tr>\n",
       "      <th>1</th>\n",
       "      <td>575767</td>\n",
       "      <td>2021-11-11 11:11:00</td>\n",
       "      <td>17348.0</td>\n",
       "      <td>United Kingdom</td>\n",
       "      <td>163</td>\n",
       "      <td>209.73</td>\n",
       "    </tr>\n",
       "    <tr>\n",
       "      <th>2</th>\n",
       "      <td>549106</td>\n",
       "      <td>2021-04-06 12:08:00</td>\n",
       "      <td>17045.0</td>\n",
       "      <td>United Kingdom</td>\n",
       "      <td>1</td>\n",
       "      <td>39.95</td>\n",
       "    </tr>\n",
       "    <tr>\n",
       "      <th>3</th>\n",
       "      <td>573112</td>\n",
       "      <td>2021-10-27 15:33:00</td>\n",
       "      <td>16416.0</td>\n",
       "      <td>United Kingdom</td>\n",
       "      <td>357</td>\n",
       "      <td>344.83</td>\n",
       "    </tr>\n",
       "    <tr>\n",
       "      <th>4</th>\n",
       "      <td>576630</td>\n",
       "      <td>2021-11-16 08:38:00</td>\n",
       "      <td>13816.0</td>\n",
       "      <td>Germany</td>\n",
       "      <td>91</td>\n",
       "      <td>199.98</td>\n",
       "    </tr>\n",
       "    <tr>\n",
       "      <th>...</th>\n",
       "      <td>...</td>\n",
       "      <td>...</td>\n",
       "      <td>...</td>\n",
       "      <td>...</td>\n",
       "      <td>...</td>\n",
       "      <td>...</td>\n",
       "    </tr>\n",
       "    <tr>\n",
       "      <th>18557</th>\n",
       "      <td>579252</td>\n",
       "      <td>2021-11-28 16:47:00</td>\n",
       "      <td>17450.0</td>\n",
       "      <td>United Kingdom</td>\n",
       "      <td>432</td>\n",
       "      <td>1034.40</td>\n",
       "    </tr>\n",
       "    <tr>\n",
       "      <th>18558</th>\n",
       "      <td>574908</td>\n",
       "      <td>2021-11-07 15:37:00</td>\n",
       "      <td>16009.0</td>\n",
       "      <td>United Kingdom</td>\n",
       "      <td>28</td>\n",
       "      <td>82.76</td>\n",
       "    </tr>\n",
       "    <tr>\n",
       "      <th>18559</th>\n",
       "      <td>553060</td>\n",
       "      <td>2021-05-13 10:44:00</td>\n",
       "      <td>15826.0</td>\n",
       "      <td>United Kingdom</td>\n",
       "      <td>488</td>\n",
       "      <td>720.00</td>\n",
       "    </tr>\n",
       "    <tr>\n",
       "      <th>18560</th>\n",
       "      <td>577049</td>\n",
       "      <td>2021-11-17 13:58:00</td>\n",
       "      <td>17397.0</td>\n",
       "      <td>United Kingdom</td>\n",
       "      <td>104</td>\n",
       "      <td>298.78</td>\n",
       "    </tr>\n",
       "    <tr>\n",
       "      <th>18561</th>\n",
       "      <td>550122</td>\n",
       "      <td>2021-04-14 12:39:00</td>\n",
       "      <td>12931.0</td>\n",
       "      <td>United Kingdom</td>\n",
       "      <td>1176</td>\n",
       "      <td>1488.00</td>\n",
       "    </tr>\n",
       "  </tbody>\n",
       "</table>\n",
       "<p>18562 rows × 6 columns</p>\n",
       "</div>"
      ],
      "text/plain": [
       "      N° de factura    Fecha de factura  ID Cliente            País  Cantidad  \\\n",
       "0            548370 2021-03-30 16:14:00     15528.0  United Kingdom       123   \n",
       "1            575767 2021-11-11 11:11:00     17348.0  United Kingdom       163   \n",
       "2            549106 2021-04-06 12:08:00     17045.0  United Kingdom         1   \n",
       "3            573112 2021-10-27 15:33:00     16416.0  United Kingdom       357   \n",
       "4            576630 2021-11-16 08:38:00     13816.0         Germany        91   \n",
       "...             ...                 ...         ...             ...       ...   \n",
       "18557        579252 2021-11-28 16:47:00     17450.0  United Kingdom       432   \n",
       "18558        574908 2021-11-07 15:37:00     16009.0  United Kingdom        28   \n",
       "18559        553060 2021-05-13 10:44:00     15826.0  United Kingdom       488   \n",
       "18560        577049 2021-11-17 13:58:00     17397.0  United Kingdom       104   \n",
       "18561        550122 2021-04-14 12:39:00     12931.0  United Kingdom      1176   \n",
       "\n",
       "         Monto  \n",
       "0       229.33  \n",
       "1       209.73  \n",
       "2        39.95  \n",
       "3       344.83  \n",
       "4       199.98  \n",
       "...        ...  \n",
       "18557  1034.40  \n",
       "18558    82.76  \n",
       "18559   720.00  \n",
       "18560   298.78  \n",
       "18561  1488.00  \n",
       "\n",
       "[18562 rows x 6 columns]"
      ]
     },
     "execution_count": 8,
     "metadata": {},
     "output_type": "execute_result"
    }
   ],
   "source": [
    "mtdataset"
   ]
  },
  {
   "cell_type": "code",
   "execution_count": 12,
   "metadata": {},
   "outputs": [
    {
     "ename": "ImportError",
     "evalue": "cannot import name 'Group_By' from 'group_by1' (c:\\Users\\andre\\Microtargeting\\scripts\\group_by1.py)",
     "output_type": "error",
     "traceback": [
      "\u001b[1;31m---------------------------------------------------------------------------\u001b[0m",
      "\u001b[1;31mImportError\u001b[0m                               Traceback (most recent call last)",
      "Cell \u001b[1;32mIn[12], line 1\u001b[0m\n\u001b[1;32m----> 1\u001b[0m \u001b[38;5;28;01mfrom\u001b[39;00m \u001b[38;5;21;01mgroup_by1\u001b[39;00m \u001b[38;5;28;01mimport\u001b[39;00m Group_By\n",
      "\u001b[1;31mImportError\u001b[0m: cannot import name 'Group_By' from 'group_by1' (c:\\Users\\andre\\Microtargeting\\scripts\\group_by1.py)"
     ]
    }
   ],
   "source": [
    "from group_by1 import Group_By"
   ]
  },
  {
   "cell_type": "code",
   "execution_count": null,
   "metadata": {},
   "outputs": [],
   "source": [
    "data2=Group_By('Monto', mtdataset, 'Fecha de factura', 'ID Cliente', 'Cantidad', 'Fecha de factura', 'N° de factura')"
   ]
  },
  {
   "cell_type": "code",
   "execution_count": null,
   "metadata": {},
   "outputs": [],
   "source": [
    "mtdataset_groupby=data.ejec_group_by()"
   ]
  },
  {
   "cell_type": "code",
   "execution_count": null,
   "metadata": {},
   "outputs": [],
   "source": [
    "mtdataset_groupby"
   ]
  }
 ],
 "metadata": {
  "kernelspec": {
   "display_name": "Python 3",
   "language": "python",
   "name": "python3"
  },
  "language_info": {
   "codemirror_mode": {
    "name": "ipython",
    "version": 3
   },
   "file_extension": ".py",
   "mimetype": "text/x-python",
   "name": "python",
   "nbconvert_exporter": "python",
   "pygments_lexer": "ipython3",
   "version": "3.11.1"
  }
 },
 "nbformat": 4,
 "nbformat_minor": 2
}
