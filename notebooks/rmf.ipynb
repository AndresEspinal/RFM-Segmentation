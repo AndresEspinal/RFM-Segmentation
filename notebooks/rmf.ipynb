{
 "cells": [
  {
   "cell_type": "code",
   "execution_count": 1,
   "metadata": {},
   "outputs": [],
   "source": [
    "#Datos\n",
    "import pandas as pd\n",
    "import numpy as np\n",
    "\n",
    "#Graficar\n",
    "import seaborn as sns\n",
    "import matplotlib.pyplot as plt\n",
    "#import matplotlib\n",
    "#import matplotlib.patches as patches\n",
    "\n",
    "\n",
    "# Generador de tablas de contingencia\n",
    "from pandas import crosstab\n",
    "from sklearn.metrics import mutual_info_score\n",
    "\n",
    "#Test chi-cuadrado\n",
    "from scipy.stats import chi2_contingency\n",
    "\n",
    "#Imputación\n",
    "from sklearn.impute import SimpleImputer\n",
    "#from sklearn.impute import KNNImputer\n",
    "\n",
    "\n",
    "#QQ\n",
    "import statsmodels.api as sm\n",
    "#Shapiro\n",
    "from scipy import stats\n",
    "\n",
    "#Escalamiento\n",
    "from sklearn.preprocessing import StandardScaler\n",
    "from sklearn.preprocessing import MinMaxScaler\n",
    "#from sklearn.preprocessing import RobustScaler\n",
    "\n",
    "#Transformación numérica\n",
    "#from sklearn.preprocessing import LabelEncoder\n",
    "\n",
    "#K-means\n",
    "from sklearn.cluster import KMeans\n",
    "from sklearn.metrics import silhouette_score\n",
    "\n",
    "#Outliers\n",
    "from sklearn.neighbors import LocalOutlierFactor\n",
    "from scipy.special import entr #Entropía\n",
    "\n",
    "#Balanceo\n",
    "from imblearn.over_sampling import SMOTE\n",
    "from imblearn.over_sampling import RandomOverSampler\n",
    "\n",
    "#Advertencias\n",
    "import warnings\n",
    "\n",
    "#Separación train-test\n",
    "from sklearn.model_selection import train_test_split\n",
    "from sklearn.model_selection import cross_validate\n",
    "from sklearn.model_selection import cross_val_score\n",
    "from sklearn.model_selection import cross_val_predict\n",
    "from sklearn.model_selection import GridSearchCV\n",
    "from sklearn.model_selection import ParameterGrid\n",
    "\n",
    "#Modelos\n",
    "from sklearn.linear_model import LogisticRegression\n",
    "from sklearn.ensemble import RandomForestClassifier\n",
    "from sklearn import svm\n",
    "from sklearn.svm import SVC\n",
    "from sklearn.neighbors import KNeighborsClassifier\n",
    "from sklearn.tree import DecisionTreeClassifier\n",
    "from sklearn.naive_bayes import ComplementNB\n",
    "from sklearn import neighbors\n",
    "from sklearn import tree\n",
    "from sklearn.neural_network import MLPClassifier\n",
    "from sklearn.tree import plot_tree\n",
    "import graphviz\n",
    "#from sklearn.tree import export_graphviz\n",
    "#from sklearn.naive_bayes import CategoricalNB\n",
    "\n",
    "#Métricas\n",
    "from sklearn import metrics\n",
    "from sklearn.metrics import precision_score\n",
    "from sklearn.metrics import confusion_matrix\n",
    "from sklearn.metrics import f1_score\n",
    "from sklearn.metrics import roc_auc_score\n",
    "from sklearn.metrics import roc_curve\n",
    "from sklearn.metrics import recall_score\n",
    "from sklearn.metrics import accuracy_score\n",
    "from sklearn.metrics import classification_report\n",
    "#from sklearn.metrics import calinski_harabasz_score\n",
    "#from sklearn.metrics import davies_bouldin_score\n",
    "#from sklearn.metrics import pairwise_distances\n",
    "\n",
    "from datetime import datetime, time\n",
    "\n",
    "#Otros\n",
    "\n",
    "#import io\n",
    "#import requests\n",
    "#from sklearn.model_selection import RepeatedKFold\n",
    "#from sklearn.inspection import permutation_importance\n",
    "#from sklearn import datasets\n",
    "#from sklearn.random_projection import johnson_lindenstrauss_min_dim, GaussianRandomProjection, SparseRandomProjection\n",
    "#from sklearn.decomposition import PCA\n",
    "#from sklearn.decomposition import KernelPCA\n",
    "#from sklearn.datasets import make_classification\n",
    "#from scipy import special\n",
    "#from scipy.stats import spearmanr\n",
    "#from scipy.spatial.distance import euclidean\n",
    "#from collections import defaultdict\n",
    "#from yellowbrick.cluster import KElbowVisualizer\n",
    "#from validclust.indices import dunn\n",
    "#from ds_utils.unsupervised import plot_cluster_cardinality, plot_cluster_magnitude, plot_magnitude_vs_cardinality\n",
    "\n",
    "import os"
   ]
  },
  {
   "cell_type": "code",
   "execution_count": 2,
   "metadata": {},
   "outputs": [],
   "source": [
    "#Lectura de datos desde vsc\n",
    "mtdataset = pd.read_parquet('../data/processed/preprocesamiento_mtdataset.parquet')"
   ]
  },
  {
   "cell_type": "code",
   "execution_count": 3,
   "metadata": {},
   "outputs": [
    {
     "name": "stdout",
     "output_type": "stream",
     "text": [
      "<class 'pandas.core.frame.DataFrame'>\n",
      "Index: 18562 entries, 0 to 25951\n",
      "Data columns (total 6 columns):\n",
      " #   Column            Non-Null Count  Dtype         \n",
      "---  ------            --------------  -----         \n",
      " 0   N° de factura     18562 non-null  object        \n",
      " 1   Fecha de factura  18562 non-null  datetime64[ns]\n",
      " 2   ID Cliente        18562 non-null  float64       \n",
      " 3   País              18562 non-null  object        \n",
      " 4   Cantidad          18562 non-null  int64         \n",
      " 5   Monto             18562 non-null  float64       \n",
      "dtypes: datetime64[ns](1), float64(2), int64(1), object(2)\n",
      "memory usage: 1015.1+ KB\n"
     ]
    }
   ],
   "source": [
    "mtdataset.info()"
   ]
  },
  {
   "cell_type": "code",
   "execution_count": 4,
   "metadata": {},
   "outputs": [],
   "source": [
    "mtdataset_num=mtdataset[['Cantidad','Monto']]"
   ]
  },
  {
   "cell_type": "code",
   "execution_count": 5,
   "metadata": {},
   "outputs": [
    {
     "data": {
      "text/html": [
       "<div>\n",
       "<style scoped>\n",
       "    .dataframe tbody tr th:only-of-type {\n",
       "        vertical-align: middle;\n",
       "    }\n",
       "\n",
       "    .dataframe tbody tr th {\n",
       "        vertical-align: top;\n",
       "    }\n",
       "\n",
       "    .dataframe thead th {\n",
       "        text-align: right;\n",
       "    }\n",
       "</style>\n",
       "<table border=\"1\" class=\"dataframe\">\n",
       "  <thead>\n",
       "    <tr style=\"text-align: right;\">\n",
       "      <th></th>\n",
       "      <th>Cantidad</th>\n",
       "      <th>Monto</th>\n",
       "    </tr>\n",
       "  </thead>\n",
       "  <tbody>\n",
       "    <tr>\n",
       "      <th>Cantidad</th>\n",
       "      <td>1.000000</td>\n",
       "      <td>0.906516</td>\n",
       "    </tr>\n",
       "    <tr>\n",
       "      <th>Monto</th>\n",
       "      <td>0.906516</td>\n",
       "      <td>1.000000</td>\n",
       "    </tr>\n",
       "  </tbody>\n",
       "</table>\n",
       "</div>"
      ],
      "text/plain": [
       "          Cantidad     Monto\n",
       "Cantidad  1.000000  0.906516\n",
       "Monto     0.906516  1.000000"
      ]
     },
     "execution_count": 5,
     "metadata": {},
     "output_type": "execute_result"
    }
   ],
   "source": [
    "correlacion=mtdataset_num.corr()\n",
    "correlacion"
   ]
  },
  {
   "cell_type": "code",
   "execution_count": 6,
   "metadata": {},
   "outputs": [
    {
     "data": {
      "image/png": "[encoded data removed]",
      "text/plain": [
       "<Figure size 500x400 with 2 Axes>"
      ]
     },
     "metadata": {},
     "output_type": "display_data"
    }
   ],
   "source": [
    "plt.figure(figsize=(5, 4))\n",
    "sns.heatmap(correlacion, annot=True, cmap=\"rocket\", linewidths=.5)\n",
    "plt.show()"
   ]
  },
  {
   "cell_type": "code",
   "execution_count": 7,
   "metadata": {},
   "outputs": [
    {
     "name": "stderr",
     "output_type": "stream",
     "text": [
      "C:\\Users\\andre\\AppData\\Local\\Temp\\ipykernel_13828\\1812750294.py:4: FutureWarning: \n",
      "\n",
      "Passing `palette` without assigning `hue` is deprecated and will be removed in v0.14.0. Assign the `x` variable to `hue` and set `legend=False` for the same effect.\n",
      "\n",
      "  sns.countplot(x='País', data=mtdataset_filtrado, palette='Set3', order=mtdataset_filtrado['País'].value_counts().index)\n"
     ]
    },
    {
     "data": {
      "image/png": "[encoded data removed]",
      "text/plain": [
       "<Figure size 1000x600 with 1 Axes>"
      ]
     },
     "metadata": {},
     "output_type": "display_data"
    }
   ],
   "source": [
    "mtdataset_filtrado = mtdataset[mtdataset['País'] != 'United Kingdom']\n",
    "\n",
    "plt.figure(figsize=(10, 6))\n",
    "sns.countplot(x='País', data=mtdataset_filtrado, palette='Set3', order=mtdataset_filtrado['País'].value_counts().index)\n",
    "\n",
    "# Títulos y etiquetas\n",
    "plt.title('Frecuencia de Países', fontsize=16)\n",
    "plt.xlabel('País', fontsize=12)\n",
    "plt.ylabel('Frecuencia', fontsize=12)\n",
    "plt.xticks(rotation=90)\n",
    "\n",
    "# Mostrar el gráfico\n",
    "plt.show()"
   ]
  },
  {
   "cell_type": "code",
   "execution_count": 8,
   "metadata": {},
   "outputs": [
    {
     "data": {
      "text/plain": [
       "1889"
      ]
     },
     "execution_count": 8,
     "metadata": {},
     "output_type": "execute_result"
    }
   ],
   "source": [
    "len(mtdataset_filtrado)"
   ]
  },
  {
   "cell_type": "code",
   "execution_count": 9,
   "metadata": {},
   "outputs": [
    {
     "data": {
      "text/plain": [
       "16673"
      ]
     },
     "execution_count": 9,
     "metadata": {},
     "output_type": "execute_result"
    }
   ],
   "source": [
    "len(mtdataset)-len(mtdataset_filtrado)"
   ]
  },
  {
   "cell_type": "code",
   "execution_count": 10,
   "metadata": {},
   "outputs": [
    {
     "data": {
      "text/plain": [
       "Index(['N° de factura', 'Fecha de factura', 'ID Cliente', 'País', 'Cantidad',\n",
       "       'Monto'],\n",
       "      dtype='object')"
      ]
     },
     "execution_count": 10,
     "metadata": {},
     "output_type": "execute_result"
    }
   ],
   "source": [
    "mtdataset.columns"
   ]
  },
  {
   "cell_type": "code",
   "execution_count": 11,
   "metadata": {},
   "outputs": [],
   "source": [
    "mtdataset_nodate=mtdataset[['N° de factura', 'ID Cliente', 'País', 'Cantidad',\n",
    "       'Monto']]"
   ]
  },
  {
   "cell_type": "code",
   "execution_count": 12,
   "metadata": {},
   "outputs": [
    {
     "data": {
      "text/plain": [
       "País\n",
       "United Kingdom          7308391.55\n",
       "Netherlands              285446.34\n",
       "EIRE                     265545.90\n",
       "Germany                  228867.14\n",
       "France                   209024.05\n",
       "Australia                138521.31\n",
       "Spain                     61577.11\n",
       "Switzerland               56443.95\n",
       "Belgium                   41196.34\n",
       "Sweden                    38378.33\n",
       "Japan                     37416.37\n",
       "Norway                    36165.44\n",
       "Portugal                  33439.89\n",
       "Finland                   22546.08\n",
       "Singapore                 21279.29\n",
       "Channel Islands           20450.44\n",
       "Denmark                   18955.34\n",
       "Italy                     17483.24\n",
       "Cyprus                    13590.38\n",
       "Austria                   10198.68\n",
       "Poland                     7334.65\n",
       "Israel                     7221.69\n",
       "Greece                     4760.52\n",
       "Iceland                    4310.00\n",
       "Canada                     3666.38\n",
       "USA                        3580.39\n",
       "Malta                      2725.59\n",
       "Unspecified                2667.07\n",
       "United Arab Emirates       1902.28\n",
       "Lebanon                    1693.88\n",
       "Lithuania                  1661.06\n",
       "European Community         1300.25\n",
       "Brazil                     1143.60\n",
       "RSA                        1002.31\n",
       "Czech Republic              826.74\n",
       "Bahrain                     548.40\n",
       "Saudi Arabia                145.92\n",
       "Name: Monto, dtype: float64"
      ]
     },
     "execution_count": 12,
     "metadata": {},
     "output_type": "execute_result"
    }
   ],
   "source": [
    "monto_pais = mtdataset_nodate.groupby('País').sum()['Monto']\n",
    "monto_pais.sort_values(ascending=False)"
   ]
  },
  {
   "cell_type": "code",
   "execution_count": 13,
   "metadata": {},
   "outputs": [
    {
     "data": {
      "text/plain": [
       "País\n",
       "United Kingdom          4256915\n",
       "Netherlands              200361\n",
       "EIRE                     140525\n",
       "Germany                  119263\n",
       "France                   111472\n",
       "Australia                 84209\n",
       "Sweden                    36083\n",
       "Switzerland               30083\n",
       "Spain                     27951\n",
       "Japan                     26016\n",
       "Belgium                   23237\n",
       "Norway                    19338\n",
       "Portugal                  16122\n",
       "Finland                   10704\n",
       "Channel Islands            9491\n",
       "Denmark                    8235\n",
       "Italy                      8112\n",
       "Cyprus                     6361\n",
       "Singapore                  5241\n",
       "Austria                    4881\n",
       "Israel                     4046\n",
       "Poland                     3684\n",
       "Canada                     2763\n",
       "Iceland                    2458\n",
       "USA                        2458\n",
       "Unspecified                1789\n",
       "Greece                     1557\n",
       "United Arab Emirates        982\n",
       "Malta                       970\n",
       "Czech Republic              671\n",
       "Lithuania                   652\n",
       "European Community          499\n",
       "Lebanon                     386\n",
       "Brazil                      356\n",
       "RSA                         352\n",
       "Bahrain                     260\n",
       "Saudi Arabia                 80\n",
       "Name: Cantidad, dtype: int64"
      ]
     },
     "execution_count": 13,
     "metadata": {},
     "output_type": "execute_result"
    }
   ],
   "source": [
    "monto_can = mtdataset_nodate.groupby('País').sum()['Cantidad']\n",
    "monto_can.sort_values(ascending=False)"
   ]
  },
  {
   "cell_type": "code",
   "execution_count": 14,
   "metadata": {},
   "outputs": [],
   "source": [
    "mtdataset_nodate['Porcentaje_Monto'] = mtdataset_nodate['Monto'] / mtdataset_nodate['Monto'].sum() * 100"
   ]
  },
  {
   "cell_type": "code",
   "execution_count": 15,
   "metadata": {},
   "outputs": [],
   "source": [
    "mtdataset_nodate['Porcentaje_Cantidad'] = mtdataset_nodate['Cantidad'] / mtdataset_nodate['Cantidad'].sum() * 100"
   ]
  },
  {
   "cell_type": "code",
   "execution_count": 16,
   "metadata": {},
   "outputs": [
    {
     "data": {
      "text/html": [
       "<div>\n",
       "<style scoped>\n",
       "    .dataframe tbody tr th:only-of-type {\n",
       "        vertical-align: middle;\n",
       "    }\n",
       "\n",
       "    .dataframe tbody tr th {\n",
       "        vertical-align: top;\n",
       "    }\n",
       "\n",
       "    .dataframe thead th {\n",
       "        text-align: right;\n",
       "    }\n",
       "</style>\n",
       "<table border=\"1\" class=\"dataframe\">\n",
       "  <thead>\n",
       "    <tr style=\"text-align: right;\">\n",
       "      <th></th>\n",
       "      <th>N° de factura</th>\n",
       "      <th>ID Cliente</th>\n",
       "      <th>País</th>\n",
       "      <th>Cantidad</th>\n",
       "      <th>Monto</th>\n",
       "      <th>Porcentaje_Monto</th>\n",
       "      <th>Porcentaje_Cantidad</th>\n",
       "    </tr>\n",
       "  </thead>\n",
       "  <tbody>\n",
       "    <tr>\n",
       "      <th>0</th>\n",
       "      <td>548370</td>\n",
       "      <td>15528.0</td>\n",
       "      <td>United Kingdom</td>\n",
       "      <td>123</td>\n",
       "      <td>229.33</td>\n",
       "      <td>0.002573</td>\n",
       "      <td>0.002380</td>\n",
       "    </tr>\n",
       "    <tr>\n",
       "      <th>1</th>\n",
       "      <td>575767</td>\n",
       "      <td>17348.0</td>\n",
       "      <td>United Kingdom</td>\n",
       "      <td>163</td>\n",
       "      <td>209.73</td>\n",
       "      <td>0.002354</td>\n",
       "      <td>0.003154</td>\n",
       "    </tr>\n",
       "    <tr>\n",
       "      <th>3</th>\n",
       "      <td>549106</td>\n",
       "      <td>17045.0</td>\n",
       "      <td>United Kingdom</td>\n",
       "      <td>1</td>\n",
       "      <td>39.95</td>\n",
       "      <td>0.000448</td>\n",
       "      <td>0.000019</td>\n",
       "    </tr>\n",
       "    <tr>\n",
       "      <th>4</th>\n",
       "      <td>573112</td>\n",
       "      <td>16416.0</td>\n",
       "      <td>United Kingdom</td>\n",
       "      <td>357</td>\n",
       "      <td>344.83</td>\n",
       "      <td>0.003870</td>\n",
       "      <td>0.006907</td>\n",
       "    </tr>\n",
       "    <tr>\n",
       "      <th>5</th>\n",
       "      <td>576630</td>\n",
       "      <td>13816.0</td>\n",
       "      <td>Germany</td>\n",
       "      <td>91</td>\n",
       "      <td>199.98</td>\n",
       "      <td>0.002244</td>\n",
       "      <td>0.001761</td>\n",
       "    </tr>\n",
       "    <tr>\n",
       "      <th>...</th>\n",
       "      <td>...</td>\n",
       "      <td>...</td>\n",
       "      <td>...</td>\n",
       "      <td>...</td>\n",
       "      <td>...</td>\n",
       "      <td>...</td>\n",
       "      <td>...</td>\n",
       "    </tr>\n",
       "    <tr>\n",
       "      <th>25945</th>\n",
       "      <td>579252</td>\n",
       "      <td>17450.0</td>\n",
       "      <td>United Kingdom</td>\n",
       "      <td>432</td>\n",
       "      <td>1034.40</td>\n",
       "      <td>0.011608</td>\n",
       "      <td>0.008358</td>\n",
       "    </tr>\n",
       "    <tr>\n",
       "      <th>25946</th>\n",
       "      <td>574908</td>\n",
       "      <td>16009.0</td>\n",
       "      <td>United Kingdom</td>\n",
       "      <td>28</td>\n",
       "      <td>82.76</td>\n",
       "      <td>0.000929</td>\n",
       "      <td>0.000542</td>\n",
       "    </tr>\n",
       "    <tr>\n",
       "      <th>25949</th>\n",
       "      <td>553060</td>\n",
       "      <td>15826.0</td>\n",
       "      <td>United Kingdom</td>\n",
       "      <td>488</td>\n",
       "      <td>720.00</td>\n",
       "      <td>0.008080</td>\n",
       "      <td>0.009442</td>\n",
       "    </tr>\n",
       "    <tr>\n",
       "      <th>25950</th>\n",
       "      <td>577049</td>\n",
       "      <td>17397.0</td>\n",
       "      <td>United Kingdom</td>\n",
       "      <td>104</td>\n",
       "      <td>298.78</td>\n",
       "      <td>0.003353</td>\n",
       "      <td>0.002012</td>\n",
       "    </tr>\n",
       "    <tr>\n",
       "      <th>25951</th>\n",
       "      <td>550122</td>\n",
       "      <td>12931.0</td>\n",
       "      <td>United Kingdom</td>\n",
       "      <td>1176</td>\n",
       "      <td>1488.00</td>\n",
       "      <td>0.016698</td>\n",
       "      <td>0.022753</td>\n",
       "    </tr>\n",
       "  </tbody>\n",
       "</table>\n",
       "<p>18562 rows × 7 columns</p>\n",
       "</div>"
      ],
      "text/plain": [
       "      N° de factura  ID Cliente            País  Cantidad    Monto  \\\n",
       "0            548370     15528.0  United Kingdom       123   229.33   \n",
       "1            575767     17348.0  United Kingdom       163   209.73   \n",
       "3            549106     17045.0  United Kingdom         1    39.95   \n",
       "4            573112     16416.0  United Kingdom       357   344.83   \n",
       "5            576630     13816.0         Germany        91   199.98   \n",
       "...             ...         ...             ...       ...      ...   \n",
       "25945        579252     17450.0  United Kingdom       432  1034.40   \n",
       "25946        574908     16009.0  United Kingdom        28    82.76   \n",
       "25949        553060     15826.0  United Kingdom       488   720.00   \n",
       "25950        577049     17397.0  United Kingdom       104   298.78   \n",
       "25951        550122     12931.0  United Kingdom      1176  1488.00   \n",
       "\n",
       "       Porcentaje_Monto  Porcentaje_Cantidad  \n",
       "0              0.002573             0.002380  \n",
       "1              0.002354             0.003154  \n",
       "3              0.000448             0.000019  \n",
       "4              0.003870             0.006907  \n",
       "5              0.002244             0.001761  \n",
       "...                 ...                  ...  \n",
       "25945          0.011608             0.008358  \n",
       "25946          0.000929             0.000542  \n",
       "25949          0.008080             0.009442  \n",
       "25950          0.003353             0.002012  \n",
       "25951          0.016698             0.022753  \n",
       "\n",
       "[18562 rows x 7 columns]"
      ]
     },
     "execution_count": 16,
     "metadata": {},
     "output_type": "execute_result"
    }
   ],
   "source": [
    "mtdataset_nodate"
   ]
  },
  {
   "cell_type": "code",
   "execution_count": 17,
   "metadata": {},
   "outputs": [
    {
     "data": {
      "text/plain": [
       "País\n",
       "United Kingdom          82.011638\n",
       "Netherlands              3.203156\n",
       "EIRE                     2.979842\n",
       "Germany                  2.568249\n",
       "France                   2.345578\n",
       "Australia                1.554427\n",
       "Spain                    0.690992\n",
       "Switzerland              0.633390\n",
       "Belgium                  0.462288\n",
       "Sweden                   0.430665\n",
       "Japan                    0.419870\n",
       "Norway                   0.405833\n",
       "Portugal                 0.375248\n",
       "Finland                  0.253002\n",
       "Singapore                0.238787\n",
       "Channel Islands          0.229486\n",
       "Denmark                  0.212709\n",
       "Italy                    0.196189\n",
       "Cyprus                   0.152505\n",
       "Austria                  0.114445\n",
       "Poland                   0.082306\n",
       "Israel                   0.081039\n",
       "Greece                   0.053421\n",
       "Iceland                  0.048365\n",
       "Canada                   0.041143\n",
       "USA                      0.040178\n",
       "Malta                    0.030585\n",
       "Unspecified              0.029929\n",
       "United Arab Emirates     0.021347\n",
       "Lebanon                  0.019008\n",
       "Lithuania                0.018640\n",
       "European Community       0.014591\n",
       "Brazil                   0.012833\n",
       "RSA                      0.011247\n",
       "Czech Republic           0.009277\n",
       "Bahrain                  0.006154\n",
       "Saudi Arabia             0.001637\n",
       "Name: Porcentaje_Monto, dtype: float64"
      ]
     },
     "execution_count": 17,
     "metadata": {},
     "output_type": "execute_result"
    }
   ],
   "source": [
    "monto_pais_por = mtdataset_nodate.groupby('País').sum()['Porcentaje_Monto']\n",
    "monto_pais_por.sort_values(ascending=False)"
   ]
  },
  {
   "cell_type": "code",
   "execution_count": 18,
   "metadata": {},
   "outputs": [
    {
     "data": {
      "text/plain": [
       "País\n",
       "United Kingdom          82.361674\n",
       "Netherlands              3.876532\n",
       "EIRE                     2.718841\n",
       "Germany                  2.307469\n",
       "France                   2.156731\n",
       "Australia                1.629254\n",
       "Sweden                   0.698124\n",
       "Switzerland              0.582038\n",
       "Spain                    0.540789\n",
       "Japan                    0.503351\n",
       "Belgium                  0.449583\n",
       "Norway                   0.374147\n",
       "Portugal                 0.311924\n",
       "Finland                  0.207098\n",
       "Channel Islands          0.183629\n",
       "Denmark                  0.159329\n",
       "Italy                    0.156949\n",
       "Cyprus                   0.123071\n",
       "Singapore                0.101401\n",
       "Austria                  0.094436\n",
       "Israel                   0.078281\n",
       "Poland                   0.071277\n",
       "Canada                   0.053458\n",
       "USA                      0.047557\n",
       "Iceland                  0.047557\n",
       "Unspecified              0.034613\n",
       "Greece                   0.030124\n",
       "United Arab Emirates     0.018999\n",
       "Malta                    0.018767\n",
       "Czech Republic           0.012982\n",
       "Lithuania                0.012615\n",
       "European Community       0.009655\n",
       "Lebanon                  0.007468\n",
       "Brazil                   0.006888\n",
       "RSA                      0.006810\n",
       "Bahrain                  0.005030\n",
       "Saudi Arabia             0.001548\n",
       "Name: Porcentaje_Cantidad, dtype: float64"
      ]
     },
     "execution_count": 18,
     "metadata": {},
     "output_type": "execute_result"
    }
   ],
   "source": [
    "cant_pais_por = mtdataset_nodate.groupby('País').sum()['Porcentaje_Cantidad']\n",
    "cant_pais_por.sort_values(ascending=False)"
   ]
  },
  {
   "cell_type": "code",
   "execution_count": 19,
   "metadata": {},
   "outputs": [
    {
     "data": {
      "text/html": [
       "<div>\n",
       "<style scoped>\n",
       "    .dataframe tbody tr th:only-of-type {\n",
       "        vertical-align: middle;\n",
       "    }\n",
       "\n",
       "    .dataframe tbody tr th {\n",
       "        vertical-align: top;\n",
       "    }\n",
       "\n",
       "    .dataframe thead th {\n",
       "        text-align: right;\n",
       "    }\n",
       "</style>\n",
       "<table border=\"1\" class=\"dataframe\">\n",
       "  <thead>\n",
       "    <tr style=\"text-align: right;\">\n",
       "      <th></th>\n",
       "      <th>Cantidad</th>\n",
       "      <th>Monto</th>\n",
       "    </tr>\n",
       "  </thead>\n",
       "  <tbody>\n",
       "    <tr>\n",
       "      <th>0</th>\n",
       "      <td>123</td>\n",
       "      <td>229.33</td>\n",
       "    </tr>\n",
       "    <tr>\n",
       "      <th>1</th>\n",
       "      <td>163</td>\n",
       "      <td>209.73</td>\n",
       "    </tr>\n",
       "    <tr>\n",
       "      <th>3</th>\n",
       "      <td>1</td>\n",
       "      <td>39.95</td>\n",
       "    </tr>\n",
       "    <tr>\n",
       "      <th>4</th>\n",
       "      <td>357</td>\n",
       "      <td>344.83</td>\n",
       "    </tr>\n",
       "    <tr>\n",
       "      <th>5</th>\n",
       "      <td>91</td>\n",
       "      <td>199.98</td>\n",
       "    </tr>\n",
       "    <tr>\n",
       "      <th>...</th>\n",
       "      <td>...</td>\n",
       "      <td>...</td>\n",
       "    </tr>\n",
       "    <tr>\n",
       "      <th>25945</th>\n",
       "      <td>432</td>\n",
       "      <td>1034.40</td>\n",
       "    </tr>\n",
       "    <tr>\n",
       "      <th>25946</th>\n",
       "      <td>28</td>\n",
       "      <td>82.76</td>\n",
       "    </tr>\n",
       "    <tr>\n",
       "      <th>25949</th>\n",
       "      <td>488</td>\n",
       "      <td>720.00</td>\n",
       "    </tr>\n",
       "    <tr>\n",
       "      <th>25950</th>\n",
       "      <td>104</td>\n",
       "      <td>298.78</td>\n",
       "    </tr>\n",
       "    <tr>\n",
       "      <th>25951</th>\n",
       "      <td>1176</td>\n",
       "      <td>1488.00</td>\n",
       "    </tr>\n",
       "  </tbody>\n",
       "</table>\n",
       "<p>18562 rows × 2 columns</p>\n",
       "</div>"
      ],
      "text/plain": [
       "       Cantidad    Monto\n",
       "0           123   229.33\n",
       "1           163   209.73\n",
       "3             1    39.95\n",
       "4           357   344.83\n",
       "5            91   199.98\n",
       "...         ...      ...\n",
       "25945       432  1034.40\n",
       "25946        28    82.76\n",
       "25949       488   720.00\n",
       "25950       104   298.78\n",
       "25951      1176  1488.00\n",
       "\n",
       "[18562 rows x 2 columns]"
      ]
     },
     "execution_count": 19,
     "metadata": {},
     "output_type": "execute_result"
    }
   ],
   "source": [
    "mtdataset_num"
   ]
  },
  {
   "cell_type": "code",
   "execution_count": 20,
   "metadata": {},
   "outputs": [
    {
     "data": {
      "text/plain": [
       "range(0, 18562)"
      ]
     },
     "execution_count": 20,
     "metadata": {},
     "output_type": "execute_result"
    }
   ],
   "source": [
    "range(len(mtdataset_num))"
   ]
  },
  {
   "cell_type": "code",
   "execution_count": 21,
   "metadata": {},
   "outputs": [
    {
     "data": {
      "text/plain": [
       "18562"
      ]
     },
     "execution_count": 21,
     "metadata": {},
     "output_type": "execute_result"
    }
   ],
   "source": [
    "len(mtdataset_num)"
   ]
  },
  {
   "cell_type": "code",
   "execution_count": 23,
   "metadata": {},
   "outputs": [],
   "source": [
    "l=['Monto','Cantidad']"
   ]
  },
  {
   "cell_type": "code",
   "execution_count": 24,
   "metadata": {},
   "outputs": [
    {
     "data": {
      "text/plain": [
       "range(0, 2)"
      ]
     },
     "execution_count": 24,
     "metadata": {},
     "output_type": "execute_result"
    }
   ],
   "source": [
    "range (len(l))"
   ]
  },
  {
   "cell_type": "code",
   "execution_count": 25,
   "metadata": {},
   "outputs": [
    {
     "data": {
      "text/html": [
       "<div>\n",
       "<style scoped>\n",
       "    .dataframe tbody tr th:only-of-type {\n",
       "        vertical-align: middle;\n",
       "    }\n",
       "\n",
       "    .dataframe tbody tr th {\n",
       "        vertical-align: top;\n",
       "    }\n",
       "\n",
       "    .dataframe thead th {\n",
       "        text-align: right;\n",
       "    }\n",
       "</style>\n",
       "<table border=\"1\" class=\"dataframe\">\n",
       "  <thead>\n",
       "    <tr style=\"text-align: right;\">\n",
       "      <th></th>\n",
       "      <th>Monto</th>\n",
       "      <th>Cantidad</th>\n",
       "    </tr>\n",
       "  </thead>\n",
       "  <tbody>\n",
       "    <tr>\n",
       "      <th>0</th>\n",
       "      <td>229.33</td>\n",
       "      <td>123</td>\n",
       "    </tr>\n",
       "    <tr>\n",
       "      <th>1</th>\n",
       "      <td>209.73</td>\n",
       "      <td>163</td>\n",
       "    </tr>\n",
       "    <tr>\n",
       "      <th>3</th>\n",
       "      <td>39.95</td>\n",
       "      <td>1</td>\n",
       "    </tr>\n",
       "    <tr>\n",
       "      <th>4</th>\n",
       "      <td>344.83</td>\n",
       "      <td>357</td>\n",
       "    </tr>\n",
       "    <tr>\n",
       "      <th>5</th>\n",
       "      <td>199.98</td>\n",
       "      <td>91</td>\n",
       "    </tr>\n",
       "    <tr>\n",
       "      <th>...</th>\n",
       "      <td>...</td>\n",
       "      <td>...</td>\n",
       "    </tr>\n",
       "    <tr>\n",
       "      <th>25945</th>\n",
       "      <td>1034.40</td>\n",
       "      <td>432</td>\n",
       "    </tr>\n",
       "    <tr>\n",
       "      <th>25946</th>\n",
       "      <td>82.76</td>\n",
       "      <td>28</td>\n",
       "    </tr>\n",
       "    <tr>\n",
       "      <th>25949</th>\n",
       "      <td>720.00</td>\n",
       "      <td>488</td>\n",
       "    </tr>\n",
       "    <tr>\n",
       "      <th>25950</th>\n",
       "      <td>298.78</td>\n",
       "      <td>104</td>\n",
       "    </tr>\n",
       "    <tr>\n",
       "      <th>25951</th>\n",
       "      <td>1488.00</td>\n",
       "      <td>1176</td>\n",
       "    </tr>\n",
       "  </tbody>\n",
       "</table>\n",
       "<p>18562 rows × 2 columns</p>\n",
       "</div>"
      ],
      "text/plain": [
       "         Monto  Cantidad\n",
       "0       229.33       123\n",
       "1       209.73       163\n",
       "3        39.95         1\n",
       "4       344.83       357\n",
       "5       199.98        91\n",
       "...        ...       ...\n",
       "25945  1034.40       432\n",
       "25946    82.76        28\n",
       "25949   720.00       488\n",
       "25950   298.78       104\n",
       "25951  1488.00      1176\n",
       "\n",
       "[18562 rows x 2 columns]"
      ]
     },
     "execution_count": 25,
     "metadata": {},
     "output_type": "execute_result"
    }
   ],
   "source": [
    "mtdataset[l]"
   ]
  },
  {
   "cell_type": "code",
   "execution_count": 26,
   "metadata": {},
   "outputs": [
    {
     "name": "stderr",
     "output_type": "stream",
     "text": [
      "C:\\Users\\andre\\AppData\\Local\\Temp\\ipykernel_13828\\2173927775.py:6: FutureWarning: \n",
      "\n",
      "Passing `palette` without assigning `hue` is deprecated and will be removed in v0.14.0. Assign the `y` variable to `hue` and set `legend=False` for the same effect.\n",
      "\n",
      "  sns.boxplot(data = mtdataset[l[i]], linewidth = 1,  palette=\"Set2\", fliersize = 3, orient='h')\n",
      "C:\\Users\\andre\\AppData\\Local\\Temp\\ipykernel_13828\\2173927775.py:6: FutureWarning: \n",
      "\n",
      "Passing `palette` without assigning `hue` is deprecated and will be removed in v0.14.0. Assign the `y` variable to `hue` and set `legend=False` for the same effect.\n",
      "\n",
      "  sns.boxplot(data = mtdataset[l[i]], linewidth = 1,  palette=\"Set2\", fliersize = 3, orient='h')\n"
     ]
    },
    {
     "data": {
      "image/png": "[encoded data removed]",
      "text/plain": [
       "<Figure size 700x700 with 2 Axes>"
      ]
     },
     "metadata": {},
     "output_type": "display_data"
    }
   ],
   "source": [
    "#Independizamos cada boxplot en su propia escala\n",
    "plt.style.use('default')\n",
    "plt.figure(figsize = (7,7))\n",
    "for i in range (len(l)):\n",
    "    plt.subplot(3, 1, i+1)\n",
    "    sns.boxplot(data = mtdataset[l[i]], linewidth = 1,  palette=\"Set2\", fliersize = 3, orient='h')\n",
    "    plt.title(l[i], fontsize=14)\n",
    "    plt.tight_layout()"
   ]
  },
  {
   "cell_type": "code",
   "execution_count": 27,
   "metadata": {},
   "outputs": [
    {
     "data": {
      "text/plain": [
       "range(0, 3)"
      ]
     },
     "execution_count": 27,
     "metadata": {},
     "output_type": "execute_result"
    }
   ],
   "source": [
    "range(3)"
   ]
  },
  {
   "cell_type": "code",
   "execution_count": 28,
   "metadata": {},
   "outputs": [
    {
     "data": {
      "text/plain": [
       "'Monto'"
      ]
     },
     "execution_count": 28,
     "metadata": {},
     "output_type": "execute_result"
    }
   ],
   "source": [
    "mtdataset_num.columns[i]"
   ]
  },
  {
   "cell_type": "code",
   "execution_count": 29,
   "metadata": {},
   "outputs": [
    {
     "data": {
      "text/plain": [
       "'Cantidad'"
      ]
     },
     "execution_count": 29,
     "metadata": {},
     "output_type": "execute_result"
    }
   ],
   "source": [
    "l[i]"
   ]
  },
  {
   "cell_type": "code",
   "execution_count": 30,
   "metadata": {},
   "outputs": [
    {
     "name": "stderr",
     "output_type": "stream",
     "text": [
      "C:\\Users\\andre\\AppData\\Local\\Temp\\ipykernel_13828\\904107121.py:6: FutureWarning: \n",
      "\n",
      "Passing `palette` without assigning `hue` is deprecated and will be removed in v0.14.0. Assign the `y` variable to `hue` and set `legend=False` for the same effect.\n",
      "\n",
      "  sns.boxplot(data = mtdataset_num[mtdataset_num.columns[i]], linewidth = 1,  palette=\"Set2\", fliersize = 3, orient='h')\n",
      "C:\\Users\\andre\\AppData\\Local\\Temp\\ipykernel_13828\\904107121.py:6: FutureWarning: \n",
      "\n",
      "Passing `palette` without assigning `hue` is deprecated and will be removed in v0.14.0. Assign the `y` variable to `hue` and set `legend=False` for the same effect.\n",
      "\n",
      "  sns.boxplot(data = mtdataset_num[mtdataset_num.columns[i]], linewidth = 1,  palette=\"Set2\", fliersize = 3, orient='h')\n"
     ]
    },
    {
     "data": {
      "image/png": "[encoded data removed]",
      "text/plain": [
       "<Figure size 700x700 with 2 Axes>"
      ]
     },
     "metadata": {},
     "output_type": "display_data"
    }
   ],
   "source": [
    "#Independizamos cada boxplot en su propia escala\n",
    "plt.style.use('default')\n",
    "plt.figure(figsize = (7,7))\n",
    "for i in range(2):\n",
    "    plt.subplot(2, 1, i+1)\n",
    "    sns.boxplot(data = mtdataset_num[mtdataset_num.columns[i]], linewidth = 1,  palette=\"Set2\", fliersize = 3, orient='h')\n",
    "    plt.title(mtdataset_num.columns[i], fontsize=14)\n",
    "    plt.tight_layout()"
   ]
  },
  {
   "cell_type": "code",
   "execution_count": 31,
   "metadata": {},
   "outputs": [
    {
     "data": {
      "text/html": [
       "<div>\n",
       "<style scoped>\n",
       "    .dataframe tbody tr th:only-of-type {\n",
       "        vertical-align: middle;\n",
       "    }\n",
       "\n",
       "    .dataframe tbody tr th {\n",
       "        vertical-align: top;\n",
       "    }\n",
       "\n",
       "    .dataframe thead th {\n",
       "        text-align: right;\n",
       "    }\n",
       "</style>\n",
       "<table border=\"1\" class=\"dataframe\">\n",
       "  <thead>\n",
       "    <tr style=\"text-align: right;\">\n",
       "      <th></th>\n",
       "      <th>Cantidad</th>\n",
       "      <th>Monto</th>\n",
       "    </tr>\n",
       "  </thead>\n",
       "  <tbody>\n",
       "  </tbody>\n",
       "</table>\n",
       "</div>"
      ],
      "text/plain": [
       "Empty DataFrame\n",
       "Columns: [Cantidad, Monto]\n",
       "Index: []"
      ]
     },
     "execution_count": 31,
     "metadata": {},
     "output_type": "execute_result"
    }
   ],
   "source": [
    "mtdataset_num[mtdataset_num[\"Cantidad\"] == 0]"
   ]
  },
  {
   "cell_type": "code",
   "execution_count": 32,
   "metadata": {},
   "outputs": [
    {
     "data": {
      "text/html": [
       "<div>\n",
       "<style scoped>\n",
       "    .dataframe tbody tr th:only-of-type {\n",
       "        vertical-align: middle;\n",
       "    }\n",
       "\n",
       "    .dataframe tbody tr th {\n",
       "        vertical-align: top;\n",
       "    }\n",
       "\n",
       "    .dataframe thead th {\n",
       "        text-align: right;\n",
       "    }\n",
       "</style>\n",
       "<table border=\"1\" class=\"dataframe\">\n",
       "  <thead>\n",
       "    <tr style=\"text-align: right;\">\n",
       "      <th></th>\n",
       "      <th>N° de factura</th>\n",
       "      <th>Fecha de factura</th>\n",
       "      <th>ID Cliente</th>\n",
       "      <th>País</th>\n",
       "      <th>Cantidad</th>\n",
       "      <th>Monto</th>\n",
       "    </tr>\n",
       "  </thead>\n",
       "  <tbody>\n",
       "    <tr>\n",
       "      <th>0</th>\n",
       "      <td>548370</td>\n",
       "      <td>2021-03-30 16:14:00</td>\n",
       "      <td>15528.0</td>\n",
       "      <td>United Kingdom</td>\n",
       "      <td>123</td>\n",
       "      <td>229.33</td>\n",
       "    </tr>\n",
       "    <tr>\n",
       "      <th>1</th>\n",
       "      <td>575767</td>\n",
       "      <td>2021-11-11 11:11:00</td>\n",
       "      <td>17348.0</td>\n",
       "      <td>United Kingdom</td>\n",
       "      <td>163</td>\n",
       "      <td>209.73</td>\n",
       "    </tr>\n",
       "    <tr>\n",
       "      <th>3</th>\n",
       "      <td>549106</td>\n",
       "      <td>2021-04-06 12:08:00</td>\n",
       "      <td>17045.0</td>\n",
       "      <td>United Kingdom</td>\n",
       "      <td>1</td>\n",
       "      <td>39.95</td>\n",
       "    </tr>\n",
       "    <tr>\n",
       "      <th>4</th>\n",
       "      <td>573112</td>\n",
       "      <td>2021-10-27 15:33:00</td>\n",
       "      <td>16416.0</td>\n",
       "      <td>United Kingdom</td>\n",
       "      <td>357</td>\n",
       "      <td>344.83</td>\n",
       "    </tr>\n",
       "    <tr>\n",
       "      <th>5</th>\n",
       "      <td>576630</td>\n",
       "      <td>2021-11-16 08:38:00</td>\n",
       "      <td>13816.0</td>\n",
       "      <td>Germany</td>\n",
       "      <td>91</td>\n",
       "      <td>199.98</td>\n",
       "    </tr>\n",
       "    <tr>\n",
       "      <th>...</th>\n",
       "      <td>...</td>\n",
       "      <td>...</td>\n",
       "      <td>...</td>\n",
       "      <td>...</td>\n",
       "      <td>...</td>\n",
       "      <td>...</td>\n",
       "    </tr>\n",
       "    <tr>\n",
       "      <th>25945</th>\n",
       "      <td>579252</td>\n",
       "      <td>2021-11-28 16:47:00</td>\n",
       "      <td>17450.0</td>\n",
       "      <td>United Kingdom</td>\n",
       "      <td>432</td>\n",
       "      <td>1034.40</td>\n",
       "    </tr>\n",
       "    <tr>\n",
       "      <th>25946</th>\n",
       "      <td>574908</td>\n",
       "      <td>2021-11-07 15:37:00</td>\n",
       "      <td>16009.0</td>\n",
       "      <td>United Kingdom</td>\n",
       "      <td>28</td>\n",
       "      <td>82.76</td>\n",
       "    </tr>\n",
       "    <tr>\n",
       "      <th>25949</th>\n",
       "      <td>553060</td>\n",
       "      <td>2021-05-13 10:44:00</td>\n",
       "      <td>15826.0</td>\n",
       "      <td>United Kingdom</td>\n",
       "      <td>488</td>\n",
       "      <td>720.00</td>\n",
       "    </tr>\n",
       "    <tr>\n",
       "      <th>25950</th>\n",
       "      <td>577049</td>\n",
       "      <td>2021-11-17 13:58:00</td>\n",
       "      <td>17397.0</td>\n",
       "      <td>United Kingdom</td>\n",
       "      <td>104</td>\n",
       "      <td>298.78</td>\n",
       "    </tr>\n",
       "    <tr>\n",
       "      <th>25951</th>\n",
       "      <td>550122</td>\n",
       "      <td>2021-04-14 12:39:00</td>\n",
       "      <td>12931.0</td>\n",
       "      <td>United Kingdom</td>\n",
       "      <td>1176</td>\n",
       "      <td>1488.00</td>\n",
       "    </tr>\n",
       "  </tbody>\n",
       "</table>\n",
       "<p>18562 rows × 6 columns</p>\n",
       "</div>"
      ],
      "text/plain": [
       "      N° de factura    Fecha de factura  ID Cliente            País  Cantidad  \\\n",
       "0            548370 2021-03-30 16:14:00     15528.0  United Kingdom       123   \n",
       "1            575767 2021-11-11 11:11:00     17348.0  United Kingdom       163   \n",
       "3            549106 2021-04-06 12:08:00     17045.0  United Kingdom         1   \n",
       "4            573112 2021-10-27 15:33:00     16416.0  United Kingdom       357   \n",
       "5            576630 2021-11-16 08:38:00     13816.0         Germany        91   \n",
       "...             ...                 ...         ...             ...       ...   \n",
       "25945        579252 2021-11-28 16:47:00     17450.0  United Kingdom       432   \n",
       "25946        574908 2021-11-07 15:37:00     16009.0  United Kingdom        28   \n",
       "25949        553060 2021-05-13 10:44:00     15826.0  United Kingdom       488   \n",
       "25950        577049 2021-11-17 13:58:00     17397.0  United Kingdom       104   \n",
       "25951        550122 2021-04-14 12:39:00     12931.0  United Kingdom      1176   \n",
       "\n",
       "         Monto  \n",
       "0       229.33  \n",
       "1       209.73  \n",
       "3        39.95  \n",
       "4       344.83  \n",
       "5       199.98  \n",
       "...        ...  \n",
       "25945  1034.40  \n",
       "25946    82.76  \n",
       "25949   720.00  \n",
       "25950   298.78  \n",
       "25951  1488.00  \n",
       "\n",
       "[18562 rows x 6 columns]"
      ]
     },
     "execution_count": 32,
     "metadata": {},
     "output_type": "execute_result"
    }
   ],
   "source": [
    "mtdataset"
   ]
  },
  {
   "cell_type": "code",
   "execution_count": 33,
   "metadata": {},
   "outputs": [
    {
     "data": {
      "text/html": [
       "<div>\n",
       "<style scoped>\n",
       "    .dataframe tbody tr th:only-of-type {\n",
       "        vertical-align: middle;\n",
       "    }\n",
       "\n",
       "    .dataframe tbody tr th {\n",
       "        vertical-align: top;\n",
       "    }\n",
       "\n",
       "    .dataframe thead th {\n",
       "        text-align: right;\n",
       "    }\n",
       "</style>\n",
       "<table border=\"1\" class=\"dataframe\">\n",
       "  <thead>\n",
       "    <tr style=\"text-align: right;\">\n",
       "      <th></th>\n",
       "      <th>index</th>\n",
       "      <th>N° de factura</th>\n",
       "      <th>Fecha de factura</th>\n",
       "      <th>ID Cliente</th>\n",
       "      <th>País</th>\n",
       "      <th>Cantidad</th>\n",
       "      <th>Monto</th>\n",
       "    </tr>\n",
       "  </thead>\n",
       "  <tbody>\n",
       "    <tr>\n",
       "      <th>0</th>\n",
       "      <td>0</td>\n",
       "      <td>548370</td>\n",
       "      <td>2021-03-30 16:14:00</td>\n",
       "      <td>15528.0</td>\n",
       "      <td>United Kingdom</td>\n",
       "      <td>123</td>\n",
       "      <td>229.33</td>\n",
       "    </tr>\n",
       "    <tr>\n",
       "      <th>1</th>\n",
       "      <td>1</td>\n",
       "      <td>575767</td>\n",
       "      <td>2021-11-11 11:11:00</td>\n",
       "      <td>17348.0</td>\n",
       "      <td>United Kingdom</td>\n",
       "      <td>163</td>\n",
       "      <td>209.73</td>\n",
       "    </tr>\n",
       "    <tr>\n",
       "      <th>2</th>\n",
       "      <td>3</td>\n",
       "      <td>549106</td>\n",
       "      <td>2021-04-06 12:08:00</td>\n",
       "      <td>17045.0</td>\n",
       "      <td>United Kingdom</td>\n",
       "      <td>1</td>\n",
       "      <td>39.95</td>\n",
       "    </tr>\n",
       "    <tr>\n",
       "      <th>3</th>\n",
       "      <td>4</td>\n",
       "      <td>573112</td>\n",
       "      <td>2021-10-27 15:33:00</td>\n",
       "      <td>16416.0</td>\n",
       "      <td>United Kingdom</td>\n",
       "      <td>357</td>\n",
       "      <td>344.83</td>\n",
       "    </tr>\n",
       "    <tr>\n",
       "      <th>4</th>\n",
       "      <td>5</td>\n",
       "      <td>576630</td>\n",
       "      <td>2021-11-16 08:38:00</td>\n",
       "      <td>13816.0</td>\n",
       "      <td>Germany</td>\n",
       "      <td>91</td>\n",
       "      <td>199.98</td>\n",
       "    </tr>\n",
       "    <tr>\n",
       "      <th>...</th>\n",
       "      <td>...</td>\n",
       "      <td>...</td>\n",
       "      <td>...</td>\n",
       "      <td>...</td>\n",
       "      <td>...</td>\n",
       "      <td>...</td>\n",
       "      <td>...</td>\n",
       "    </tr>\n",
       "    <tr>\n",
       "      <th>18557</th>\n",
       "      <td>25945</td>\n",
       "      <td>579252</td>\n",
       "      <td>2021-11-28 16:47:00</td>\n",
       "      <td>17450.0</td>\n",
       "      <td>United Kingdom</td>\n",
       "      <td>432</td>\n",
       "      <td>1034.40</td>\n",
       "    </tr>\n",
       "    <tr>\n",
       "      <th>18558</th>\n",
       "      <td>25946</td>\n",
       "      <td>574908</td>\n",
       "      <td>2021-11-07 15:37:00</td>\n",
       "      <td>16009.0</td>\n",
       "      <td>United Kingdom</td>\n",
       "      <td>28</td>\n",
       "      <td>82.76</td>\n",
       "    </tr>\n",
       "    <tr>\n",
       "      <th>18559</th>\n",
       "      <td>25949</td>\n",
       "      <td>553060</td>\n",
       "      <td>2021-05-13 10:44:00</td>\n",
       "      <td>15826.0</td>\n",
       "      <td>United Kingdom</td>\n",
       "      <td>488</td>\n",
       "      <td>720.00</td>\n",
       "    </tr>\n",
       "    <tr>\n",
       "      <th>18560</th>\n",
       "      <td>25950</td>\n",
       "      <td>577049</td>\n",
       "      <td>2021-11-17 13:58:00</td>\n",
       "      <td>17397.0</td>\n",
       "      <td>United Kingdom</td>\n",
       "      <td>104</td>\n",
       "      <td>298.78</td>\n",
       "    </tr>\n",
       "    <tr>\n",
       "      <th>18561</th>\n",
       "      <td>25951</td>\n",
       "      <td>550122</td>\n",
       "      <td>2021-04-14 12:39:00</td>\n",
       "      <td>12931.0</td>\n",
       "      <td>United Kingdom</td>\n",
       "      <td>1176</td>\n",
       "      <td>1488.00</td>\n",
       "    </tr>\n",
       "  </tbody>\n",
       "</table>\n",
       "<p>18562 rows × 7 columns</p>\n",
       "</div>"
      ],
      "text/plain": [
       "       index N° de factura    Fecha de factura  ID Cliente            País  \\\n",
       "0          0        548370 2021-03-30 16:14:00     15528.0  United Kingdom   \n",
       "1          1        575767 2021-11-11 11:11:00     17348.0  United Kingdom   \n",
       "2          3        549106 2021-04-06 12:08:00     17045.0  United Kingdom   \n",
       "3          4        573112 2021-10-27 15:33:00     16416.0  United Kingdom   \n",
       "4          5        576630 2021-11-16 08:38:00     13816.0         Germany   \n",
       "...      ...           ...                 ...         ...             ...   \n",
       "18557  25945        579252 2021-11-28 16:47:00     17450.0  United Kingdom   \n",
       "18558  25946        574908 2021-11-07 15:37:00     16009.0  United Kingdom   \n",
       "18559  25949        553060 2021-05-13 10:44:00     15826.0  United Kingdom   \n",
       "18560  25950        577049 2021-11-17 13:58:00     17397.0  United Kingdom   \n",
       "18561  25951        550122 2021-04-14 12:39:00     12931.0  United Kingdom   \n",
       "\n",
       "       Cantidad    Monto  \n",
       "0           123   229.33  \n",
       "1           163   209.73  \n",
       "2             1    39.95  \n",
       "3           357   344.83  \n",
       "4            91   199.98  \n",
       "...         ...      ...  \n",
       "18557       432  1034.40  \n",
       "18558        28    82.76  \n",
       "18559       488   720.00  \n",
       "18560       104   298.78  \n",
       "18561      1176  1488.00  \n",
       "\n",
       "[18562 rows x 7 columns]"
      ]
     },
     "execution_count": 33,
     "metadata": {},
     "output_type": "execute_result"
    }
   ],
   "source": [
    "#Se resetea la base de datos ya que se eliminó others de gender\n",
    "mtdataset=mtdataset.reset_index()\n",
    "mtdataset"
   ]
  },
  {
   "cell_type": "code",
   "execution_count": 34,
   "metadata": {},
   "outputs": [
    {
     "data": {
      "text/html": [
       "<div>\n",
       "<style scoped>\n",
       "    .dataframe tbody tr th:only-of-type {\n",
       "        vertical-align: middle;\n",
       "    }\n",
       "\n",
       "    .dataframe tbody tr th {\n",
       "        vertical-align: top;\n",
       "    }\n",
       "\n",
       "    .dataframe thead th {\n",
       "        text-align: right;\n",
       "    }\n",
       "</style>\n",
       "<table border=\"1\" class=\"dataframe\">\n",
       "  <thead>\n",
       "    <tr style=\"text-align: right;\">\n",
       "      <th></th>\n",
       "      <th>N° de factura</th>\n",
       "      <th>Fecha de factura</th>\n",
       "      <th>ID Cliente</th>\n",
       "      <th>País</th>\n",
       "      <th>Cantidad</th>\n",
       "      <th>Monto</th>\n",
       "    </tr>\n",
       "  </thead>\n",
       "  <tbody>\n",
       "    <tr>\n",
       "      <th>0</th>\n",
       "      <td>548370</td>\n",
       "      <td>2021-03-30 16:14:00</td>\n",
       "      <td>15528.0</td>\n",
       "      <td>United Kingdom</td>\n",
       "      <td>123</td>\n",
       "      <td>229.33</td>\n",
       "    </tr>\n",
       "    <tr>\n",
       "      <th>1</th>\n",
       "      <td>575767</td>\n",
       "      <td>2021-11-11 11:11:00</td>\n",
       "      <td>17348.0</td>\n",
       "      <td>United Kingdom</td>\n",
       "      <td>163</td>\n",
       "      <td>209.73</td>\n",
       "    </tr>\n",
       "    <tr>\n",
       "      <th>2</th>\n",
       "      <td>549106</td>\n",
       "      <td>2021-04-06 12:08:00</td>\n",
       "      <td>17045.0</td>\n",
       "      <td>United Kingdom</td>\n",
       "      <td>1</td>\n",
       "      <td>39.95</td>\n",
       "    </tr>\n",
       "    <tr>\n",
       "      <th>3</th>\n",
       "      <td>573112</td>\n",
       "      <td>2021-10-27 15:33:00</td>\n",
       "      <td>16416.0</td>\n",
       "      <td>United Kingdom</td>\n",
       "      <td>357</td>\n",
       "      <td>344.83</td>\n",
       "    </tr>\n",
       "    <tr>\n",
       "      <th>4</th>\n",
       "      <td>576630</td>\n",
       "      <td>2021-11-16 08:38:00</td>\n",
       "      <td>13816.0</td>\n",
       "      <td>Germany</td>\n",
       "      <td>91</td>\n",
       "      <td>199.98</td>\n",
       "    </tr>\n",
       "    <tr>\n",
       "      <th>...</th>\n",
       "      <td>...</td>\n",
       "      <td>...</td>\n",
       "      <td>...</td>\n",
       "      <td>...</td>\n",
       "      <td>...</td>\n",
       "      <td>...</td>\n",
       "    </tr>\n",
       "    <tr>\n",
       "      <th>18557</th>\n",
       "      <td>579252</td>\n",
       "      <td>2021-11-28 16:47:00</td>\n",
       "      <td>17450.0</td>\n",
       "      <td>United Kingdom</td>\n",
       "      <td>432</td>\n",
       "      <td>1034.40</td>\n",
       "    </tr>\n",
       "    <tr>\n",
       "      <th>18558</th>\n",
       "      <td>574908</td>\n",
       "      <td>2021-11-07 15:37:00</td>\n",
       "      <td>16009.0</td>\n",
       "      <td>United Kingdom</td>\n",
       "      <td>28</td>\n",
       "      <td>82.76</td>\n",
       "    </tr>\n",
       "    <tr>\n",
       "      <th>18559</th>\n",
       "      <td>553060</td>\n",
       "      <td>2021-05-13 10:44:00</td>\n",
       "      <td>15826.0</td>\n",
       "      <td>United Kingdom</td>\n",
       "      <td>488</td>\n",
       "      <td>720.00</td>\n",
       "    </tr>\n",
       "    <tr>\n",
       "      <th>18560</th>\n",
       "      <td>577049</td>\n",
       "      <td>2021-11-17 13:58:00</td>\n",
       "      <td>17397.0</td>\n",
       "      <td>United Kingdom</td>\n",
       "      <td>104</td>\n",
       "      <td>298.78</td>\n",
       "    </tr>\n",
       "    <tr>\n",
       "      <th>18561</th>\n",
       "      <td>550122</td>\n",
       "      <td>2021-04-14 12:39:00</td>\n",
       "      <td>12931.0</td>\n",
       "      <td>United Kingdom</td>\n",
       "      <td>1176</td>\n",
       "      <td>1488.00</td>\n",
       "    </tr>\n",
       "  </tbody>\n",
       "</table>\n",
       "<p>18562 rows × 6 columns</p>\n",
       "</div>"
      ],
      "text/plain": [
       "      N° de factura    Fecha de factura  ID Cliente            País  Cantidad  \\\n",
       "0            548370 2021-03-30 16:14:00     15528.0  United Kingdom       123   \n",
       "1            575767 2021-11-11 11:11:00     17348.0  United Kingdom       163   \n",
       "2            549106 2021-04-06 12:08:00     17045.0  United Kingdom         1   \n",
       "3            573112 2021-10-27 15:33:00     16416.0  United Kingdom       357   \n",
       "4            576630 2021-11-16 08:38:00     13816.0         Germany        91   \n",
       "...             ...                 ...         ...             ...       ...   \n",
       "18557        579252 2021-11-28 16:47:00     17450.0  United Kingdom       432   \n",
       "18558        574908 2021-11-07 15:37:00     16009.0  United Kingdom        28   \n",
       "18559        553060 2021-05-13 10:44:00     15826.0  United Kingdom       488   \n",
       "18560        577049 2021-11-17 13:58:00     17397.0  United Kingdom       104   \n",
       "18561        550122 2021-04-14 12:39:00     12931.0  United Kingdom      1176   \n",
       "\n",
       "         Monto  \n",
       "0       229.33  \n",
       "1       209.73  \n",
       "2        39.95  \n",
       "3       344.83  \n",
       "4       199.98  \n",
       "...        ...  \n",
       "18557  1034.40  \n",
       "18558    82.76  \n",
       "18559   720.00  \n",
       "18560   298.78  \n",
       "18561  1488.00  \n",
       "\n",
       "[18562 rows x 6 columns]"
      ]
     },
     "execution_count": 34,
     "metadata": {},
     "output_type": "execute_result"
    }
   ],
   "source": [
    "# Se reestablecen los indices ya que se eliminaron algunas variables.\n",
    "mtdataset=mtdataset.drop(\"index\",axis=1)\n",
    "mtdataset"
   ]
  },
  {
   "cell_type": "code",
   "execution_count": 35,
   "metadata": {},
   "outputs": [
    {
     "data": {
      "text/plain": [
       "0          Tuesday\n",
       "1         Thursday\n",
       "2          Tuesday\n",
       "3        Wednesday\n",
       "4          Tuesday\n",
       "           ...    \n",
       "18557       Sunday\n",
       "18558       Sunday\n",
       "18559     Thursday\n",
       "18560    Wednesday\n",
       "18561    Wednesday\n",
       "Name: Fecha de factura, Length: 18562, dtype: object"
      ]
     },
     "execution_count": 35,
     "metadata": {},
     "output_type": "execute_result"
    }
   ],
   "source": [
    "#Día de la semana de cada registro\n",
    "semana=mtdataset['Fecha de factura'].dt.day_name()\n",
    "semana"
   ]
  },
  {
   "cell_type": "code",
   "execution_count": 36,
   "metadata": {},
   "outputs": [
    {
     "data": {
      "text/html": [
       "<div>\n",
       "<style scoped>\n",
       "    .dataframe tbody tr th:only-of-type {\n",
       "        vertical-align: middle;\n",
       "    }\n",
       "\n",
       "    .dataframe tbody tr th {\n",
       "        vertical-align: top;\n",
       "    }\n",
       "\n",
       "    .dataframe thead th {\n",
       "        text-align: right;\n",
       "    }\n",
       "</style>\n",
       "<table border=\"1\" class=\"dataframe\">\n",
       "  <thead>\n",
       "    <tr style=\"text-align: right;\">\n",
       "      <th></th>\n",
       "      <th>Monto</th>\n",
       "      <th>Fecha de factura</th>\n",
       "    </tr>\n",
       "  </thead>\n",
       "  <tbody>\n",
       "    <tr>\n",
       "      <th>0</th>\n",
       "      <td>229.33</td>\n",
       "      <td>Tuesday</td>\n",
       "    </tr>\n",
       "    <tr>\n",
       "      <th>1</th>\n",
       "      <td>209.73</td>\n",
       "      <td>Thursday</td>\n",
       "    </tr>\n",
       "    <tr>\n",
       "      <th>2</th>\n",
       "      <td>39.95</td>\n",
       "      <td>Tuesday</td>\n",
       "    </tr>\n",
       "    <tr>\n",
       "      <th>3</th>\n",
       "      <td>344.83</td>\n",
       "      <td>Wednesday</td>\n",
       "    </tr>\n",
       "    <tr>\n",
       "      <th>4</th>\n",
       "      <td>199.98</td>\n",
       "      <td>Tuesday</td>\n",
       "    </tr>\n",
       "    <tr>\n",
       "      <th>...</th>\n",
       "      <td>...</td>\n",
       "      <td>...</td>\n",
       "    </tr>\n",
       "    <tr>\n",
       "      <th>18557</th>\n",
       "      <td>1034.40</td>\n",
       "      <td>Sunday</td>\n",
       "    </tr>\n",
       "    <tr>\n",
       "      <th>18558</th>\n",
       "      <td>82.76</td>\n",
       "      <td>Sunday</td>\n",
       "    </tr>\n",
       "    <tr>\n",
       "      <th>18559</th>\n",
       "      <td>720.00</td>\n",
       "      <td>Thursday</td>\n",
       "    </tr>\n",
       "    <tr>\n",
       "      <th>18560</th>\n",
       "      <td>298.78</td>\n",
       "      <td>Wednesday</td>\n",
       "    </tr>\n",
       "    <tr>\n",
       "      <th>18561</th>\n",
       "      <td>1488.00</td>\n",
       "      <td>Wednesday</td>\n",
       "    </tr>\n",
       "  </tbody>\n",
       "</table>\n",
       "<p>18562 rows × 2 columns</p>\n",
       "</div>"
      ],
      "text/plain": [
       "         Monto Fecha de factura\n",
       "0       229.33          Tuesday\n",
       "1       209.73         Thursday\n",
       "2        39.95          Tuesday\n",
       "3       344.83        Wednesday\n",
       "4       199.98          Tuesday\n",
       "...        ...              ...\n",
       "18557  1034.40           Sunday\n",
       "18558    82.76           Sunday\n",
       "18559   720.00         Thursday\n",
       "18560   298.78        Wednesday\n",
       "18561  1488.00        Wednesday\n",
       "\n",
       "[18562 rows x 2 columns]"
      ]
     },
     "execution_count": 36,
     "metadata": {},
     "output_type": "execute_result"
    }
   ],
   "source": [
    "#Uniendo el profit a los días por medio del índice\n",
    "merged_series = pd.merge(mtdataset['Monto'], mtdataset['Fecha de factura'].dt.day_name(), left_index=True, right_index=True, how='inner')\n",
    "merged_series"
   ]
  },
  {
   "cell_type": "code",
   "execution_count": 37,
   "metadata": {},
   "outputs": [
    {
     "data": {
      "text/plain": [
       "Fecha de factura\n",
       "Monday       1700634.63\n",
       "Saturday      792514.22\n",
       "Sunday       1367146.41\n",
       "Thursday     1485917.40\n",
       "Tuesday      1588336.17\n",
       "Wednesday    1976859.07\n",
       "Name: Monto, dtype: float64"
      ]
     },
     "execution_count": 37,
     "metadata": {},
     "output_type": "execute_result"
    }
   ],
   "source": [
    "#Agrupamiento por día de semana\n",
    "week=merged_series.groupby('Fecha de factura')['Monto'].sum()\n",
    "week"
   ]
  },
  {
   "cell_type": "code",
   "execution_count": 38,
   "metadata": {},
   "outputs": [],
   "source": [
    "#Ordenando los días\n",
    "ordered_days = ['Monday', 'Tuesday', 'Wednesday', 'Thursday', 'Friday', 'Saturday', 'Sunday']\n",
    "profit_por_dia = week.reindex(ordered_days, fill_value=0)"
   ]
  },
  {
   "cell_type": "code",
   "execution_count": 39,
   "metadata": {},
   "outputs": [
    {
     "data": {
      "image/png": "[encoded data removed]",
      "text/plain": [
       "<Figure size 1000x600 with 1 Axes>"
      ]
     },
     "metadata": {},
     "output_type": "display_data"
    }
   ],
   "source": [
    "plt.figure(figsize=(10, 6))\n",
    "bars = plt.bar(profit_por_dia.index, profit_por_dia.values, color='skyblue')\n",
    "\n",
    "# Agregar etiquetas en cada barra\n",
    "for bar in bars:\n",
    "    yval = bar.get_height()\n",
    "    plt.text(bar.get_x() + bar.get_width()/2, yval, int(yval), ha='center', va='bottom')\n",
    "\n",
    "plt.title('Profit por día')\n",
    "plt.xlabel('Día de la Semana')\n",
    "plt.ylabel('Profit')\n",
    "plt.xticks(rotation=45)\n",
    "plt.tight_layout()\n",
    "plt.show()"
   ]
  },
  {
   "cell_type": "code",
   "execution_count": 40,
   "metadata": {},
   "outputs": [
    {
     "data": {
      "text/plain": [
       "0           March\n",
       "1        November\n",
       "2           April\n",
       "3         October\n",
       "4        November\n",
       "           ...   \n",
       "18557    November\n",
       "18558    November\n",
       "18559         May\n",
       "18560    November\n",
       "18561       April\n",
       "Name: Fecha de factura, Length: 18562, dtype: object"
      ]
     },
     "execution_count": 40,
     "metadata": {},
     "output_type": "execute_result"
    }
   ],
   "source": [
    "#Registro por mes\n",
    "mes = mtdataset['Fecha de factura'].dt.month_name()\n",
    "mes"
   ]
  },
  {
   "cell_type": "code",
   "execution_count": 41,
   "metadata": {},
   "outputs": [
    {
     "data": {
      "text/html": [
       "<div>\n",
       "<style scoped>\n",
       "    .dataframe tbody tr th:only-of-type {\n",
       "        vertical-align: middle;\n",
       "    }\n",
       "\n",
       "    .dataframe tbody tr th {\n",
       "        vertical-align: top;\n",
       "    }\n",
       "\n",
       "    .dataframe thead th {\n",
       "        text-align: right;\n",
       "    }\n",
       "</style>\n",
       "<table border=\"1\" class=\"dataframe\">\n",
       "  <thead>\n",
       "    <tr style=\"text-align: right;\">\n",
       "      <th></th>\n",
       "      <th>Monto</th>\n",
       "      <th>Fecha de factura</th>\n",
       "    </tr>\n",
       "  </thead>\n",
       "  <tbody>\n",
       "    <tr>\n",
       "      <th>0</th>\n",
       "      <td>229.33</td>\n",
       "      <td>March</td>\n",
       "    </tr>\n",
       "    <tr>\n",
       "      <th>1</th>\n",
       "      <td>209.73</td>\n",
       "      <td>November</td>\n",
       "    </tr>\n",
       "    <tr>\n",
       "      <th>2</th>\n",
       "      <td>39.95</td>\n",
       "      <td>April</td>\n",
       "    </tr>\n",
       "    <tr>\n",
       "      <th>3</th>\n",
       "      <td>344.83</td>\n",
       "      <td>October</td>\n",
       "    </tr>\n",
       "    <tr>\n",
       "      <th>4</th>\n",
       "      <td>199.98</td>\n",
       "      <td>November</td>\n",
       "    </tr>\n",
       "    <tr>\n",
       "      <th>...</th>\n",
       "      <td>...</td>\n",
       "      <td>...</td>\n",
       "    </tr>\n",
       "    <tr>\n",
       "      <th>18557</th>\n",
       "      <td>1034.40</td>\n",
       "      <td>November</td>\n",
       "    </tr>\n",
       "    <tr>\n",
       "      <th>18558</th>\n",
       "      <td>82.76</td>\n",
       "      <td>November</td>\n",
       "    </tr>\n",
       "    <tr>\n",
       "      <th>18559</th>\n",
       "      <td>720.00</td>\n",
       "      <td>May</td>\n",
       "    </tr>\n",
       "    <tr>\n",
       "      <th>18560</th>\n",
       "      <td>298.78</td>\n",
       "      <td>November</td>\n",
       "    </tr>\n",
       "    <tr>\n",
       "      <th>18561</th>\n",
       "      <td>1488.00</td>\n",
       "      <td>April</td>\n",
       "    </tr>\n",
       "  </tbody>\n",
       "</table>\n",
       "<p>18562 rows × 2 columns</p>\n",
       "</div>"
      ],
      "text/plain": [
       "         Monto Fecha de factura\n",
       "0       229.33            March\n",
       "1       209.73         November\n",
       "2        39.95            April\n",
       "3       344.83          October\n",
       "4       199.98         November\n",
       "...        ...              ...\n",
       "18557  1034.40         November\n",
       "18558    82.76         November\n",
       "18559   720.00              May\n",
       "18560   298.78         November\n",
       "18561  1488.00            April\n",
       "\n",
       "[18562 rows x 2 columns]"
      ]
     },
     "execution_count": 41,
     "metadata": {},
     "output_type": "execute_result"
    }
   ],
   "source": [
    "#Profit y mes\n",
    "profitandmonth = pd.merge(mtdataset['Monto'], mtdataset['Fecha de factura'].dt.month_name(), left_index=True, right_index=True, how='inner')\n",
    "profitandmonth"
   ]
  },
  {
   "cell_type": "code",
   "execution_count": 42,
   "metadata": {},
   "outputs": [
    {
     "data": {
      "text/plain": [
       "Fecha de factura\n",
       "April         469200.36\n",
       "August        645343.90\n",
       "December     1090906.68\n",
       "February      447137.35\n",
       "January       569445.04\n",
       "July          600091.01\n",
       "June          661213.69\n",
       "March         595500.76\n",
       "May           678594.56\n",
       "November     1161817.38\n",
       "October      1039318.79\n",
       "September     952838.38\n",
       "Name: Monto, dtype: float64"
      ]
     },
     "execution_count": 42,
     "metadata": {},
     "output_type": "execute_result"
    }
   ],
   "source": [
    "#Agrupamiento por mes\n",
    "profitbymonth=profitandmonth.groupby('Fecha de factura')['Monto'].sum()\n",
    "profitbymonth"
   ]
  },
  {
   "cell_type": "code",
   "execution_count": 43,
   "metadata": {},
   "outputs": [],
   "source": [
    "#Ordenando los días\n",
    "ordered_month = ['January', 'February', 'March', 'April', 'May', 'June', 'July','August', 'September', 'October', 'November', 'December']\n",
    "profit_por_mes = profitbymonth.reindex(ordered_month, fill_value=0)"
   ]
  },
  {
   "cell_type": "code",
   "execution_count": 44,
   "metadata": {},
   "outputs": [
    {
     "data": {
      "image/png": "[encoded data removed]",
      "text/plain": [
       "<Figure size 1000x600 with 1 Axes>"
      ]
     },
     "metadata": {},
     "output_type": "display_data"
    }
   ],
   "source": [
    "#Gráfica\n",
    "plt.figure(figsize=(10, 6))\n",
    "bars = plt.bar(profit_por_mes.index, profit_por_mes.values, color='skyblue')\n",
    "\n",
    "# Agregar etiquetas en cada barra\n",
    "for bar in bars:\n",
    "    yval = bar.get_height()\n",
    "    plt.text(bar.get_x() + bar.get_width()/2, yval, int(yval), ha='center', va='bottom')\n",
    "\n",
    "plt.title('Profit por día')\n",
    "plt.xlabel('Día de la Semana')\n",
    "plt.ylabel('Profit')\n",
    "plt.xticks(rotation=45)\n",
    "plt.tight_layout()\n",
    "plt.show()"
   ]
  },
  {
   "cell_type": "code",
   "execution_count": 45,
   "metadata": {},
   "outputs": [
    {
     "data": {
      "text/plain": [
       "0        16\n",
       "1        11\n",
       "2        12\n",
       "3        15\n",
       "4         8\n",
       "         ..\n",
       "18557    16\n",
       "18558    15\n",
       "18559    10\n",
       "18560    13\n",
       "18561    12\n",
       "Name: Fecha de factura, Length: 18562, dtype: int32"
      ]
     },
     "execution_count": 45,
     "metadata": {},
     "output_type": "execute_result"
    }
   ],
   "source": [
    "#Registro por hora del día\n",
    "hora = mtdataset['Fecha de factura'].dt.hour\n",
    "hora"
   ]
  },
  {
   "cell_type": "code",
   "execution_count": 46,
   "metadata": {},
   "outputs": [
    {
     "data": {
      "text/html": [
       "<div>\n",
       "<style scoped>\n",
       "    .dataframe tbody tr th:only-of-type {\n",
       "        vertical-align: middle;\n",
       "    }\n",
       "\n",
       "    .dataframe tbody tr th {\n",
       "        vertical-align: top;\n",
       "    }\n",
       "\n",
       "    .dataframe thead th {\n",
       "        text-align: right;\n",
       "    }\n",
       "</style>\n",
       "<table border=\"1\" class=\"dataframe\">\n",
       "  <thead>\n",
       "    <tr style=\"text-align: right;\">\n",
       "      <th></th>\n",
       "      <th>Monto</th>\n",
       "      <th>Fecha de factura</th>\n",
       "    </tr>\n",
       "  </thead>\n",
       "  <tbody>\n",
       "    <tr>\n",
       "      <th>0</th>\n",
       "      <td>229.33</td>\n",
       "      <td>16</td>\n",
       "    </tr>\n",
       "    <tr>\n",
       "      <th>1</th>\n",
       "      <td>209.73</td>\n",
       "      <td>11</td>\n",
       "    </tr>\n",
       "    <tr>\n",
       "      <th>2</th>\n",
       "      <td>39.95</td>\n",
       "      <td>12</td>\n",
       "    </tr>\n",
       "    <tr>\n",
       "      <th>3</th>\n",
       "      <td>344.83</td>\n",
       "      <td>15</td>\n",
       "    </tr>\n",
       "    <tr>\n",
       "      <th>4</th>\n",
       "      <td>199.98</td>\n",
       "      <td>8</td>\n",
       "    </tr>\n",
       "    <tr>\n",
       "      <th>...</th>\n",
       "      <td>...</td>\n",
       "      <td>...</td>\n",
       "    </tr>\n",
       "    <tr>\n",
       "      <th>18557</th>\n",
       "      <td>1034.40</td>\n",
       "      <td>16</td>\n",
       "    </tr>\n",
       "    <tr>\n",
       "      <th>18558</th>\n",
       "      <td>82.76</td>\n",
       "      <td>15</td>\n",
       "    </tr>\n",
       "    <tr>\n",
       "      <th>18559</th>\n",
       "      <td>720.00</td>\n",
       "      <td>10</td>\n",
       "    </tr>\n",
       "    <tr>\n",
       "      <th>18560</th>\n",
       "      <td>298.78</td>\n",
       "      <td>13</td>\n",
       "    </tr>\n",
       "    <tr>\n",
       "      <th>18561</th>\n",
       "      <td>1488.00</td>\n",
       "      <td>12</td>\n",
       "    </tr>\n",
       "  </tbody>\n",
       "</table>\n",
       "<p>18562 rows × 2 columns</p>\n",
       "</div>"
      ],
      "text/plain": [
       "         Monto  Fecha de factura\n",
       "0       229.33                16\n",
       "1       209.73                11\n",
       "2        39.95                12\n",
       "3       344.83                15\n",
       "4       199.98                 8\n",
       "...        ...               ...\n",
       "18557  1034.40                16\n",
       "18558    82.76                15\n",
       "18559   720.00                10\n",
       "18560   298.78                13\n",
       "18561  1488.00                12\n",
       "\n",
       "[18562 rows x 2 columns]"
      ]
     },
     "execution_count": 46,
     "metadata": {},
     "output_type": "execute_result"
    }
   ],
   "source": [
    "#Hora y profit\n",
    "unirhora = pd.merge(mtdataset['Monto'], hora, left_index=True, right_index=True, how='inner')\n",
    "unirhora"
   ]
  },
  {
   "cell_type": "code",
   "execution_count": 47,
   "metadata": {},
   "outputs": [
    {
     "data": {
      "text/plain": [
       "Fecha de factura\n",
       "6           4.25\n",
       "7       31059.21\n",
       "8      282115.63\n",
       "9      842605.17\n",
       "10    1261192.57\n",
       "11    1104558.75\n",
       "12    1378571.48\n",
       "13    1173264.75\n",
       "14     995629.37\n",
       "15     966191.75\n",
       "16     468885.80\n",
       "17     234413.52\n",
       "18     104954.43\n",
       "19      49028.46\n",
       "20      18932.76\n",
       "Name: Monto, dtype: float64"
      ]
     },
     "execution_count": 47,
     "metadata": {},
     "output_type": "execute_result"
    }
   ],
   "source": [
    "#Agrupamiento de hora del día y profit\n",
    "profitbyhour=unirhora.groupby('Fecha de factura')['Monto'].sum()\n",
    "profitbyhour"
   ]
  },
  {
   "cell_type": "code",
   "execution_count": 48,
   "metadata": {},
   "outputs": [
    {
     "data": {
      "image/png": "[encoded data removed]",
      "text/plain": [
       "<Figure size 1000x600 with 1 Axes>"
      ]
     },
     "metadata": {},
     "output_type": "display_data"
    }
   ],
   "source": [
    "#Gráfica por hora\n",
    "plt.figure(figsize=(10, 6))\n",
    "bars = plt.bar(profitbyhour.index, profitbyhour.values, color='skyblue')\n",
    "\n",
    "# Agregar etiquetas en cada barra\n",
    "for bar in bars:\n",
    "    yval = bar.get_height()\n",
    "    plt.text(bar.get_x() + bar.get_width()/2, yval, int(yval), ha='center', va='bottom')\n",
    "\n",
    "plt.title('Profit por hora')\n",
    "plt.xlabel('Hora')\n",
    "plt.ylabel('Profit')\n",
    "#plt.xticks(rotation=45)\n",
    "plt.tight_layout()\n",
    "plt.show()"
   ]
  },
  {
   "cell_type": "code",
   "execution_count": 49,
   "metadata": {},
   "outputs": [
    {
     "data": {
      "text/plain": [
       "(array([18628., 18687., 18748., 18809., 18871., 18932.]),\n",
       " [Text(18628.0, 0, '2021-01'),\n",
       "  Text(18687.0, 0, '2021-03'),\n",
       "  Text(18748.0, 0, '2021-05'),\n",
       "  Text(18809.0, 0, '2021-07'),\n",
       "  Text(18871.0, 0, '2021-09'),\n",
       "  Text(18932.0, 0, '2021-11')])"
      ]
     },
     "execution_count": 49,
     "metadata": {},
     "output_type": "execute_result"
    },
    {
     "data": {
      "image/png": "[encoded data removed]",
      "text/plain": [
       "<Figure size 2000x600 with 1 Axes>"
      ]
     },
     "metadata": {},
     "output_type": "display_data"
    }
   ],
   "source": [
    "#Serie de tiempo\n",
    "plt.figure(figsize=(20, 6))\n",
    "sns.lineplot(data=mtdataset, x=\"Fecha de factura\", y=\"Monto\")#, hue=\"ID\")\n",
    "plt.xticks(rotation=90)"
   ]
  },
  {
   "cell_type": "code",
   "execution_count": 50,
   "metadata": {},
   "outputs": [
    {
     "data": {
      "text/html": [
       "<div>\n",
       "<style scoped>\n",
       "    .dataframe tbody tr th:only-of-type {\n",
       "        vertical-align: middle;\n",
       "    }\n",
       "\n",
       "    .dataframe tbody tr th {\n",
       "        vertical-align: top;\n",
       "    }\n",
       "\n",
       "    .dataframe thead th {\n",
       "        text-align: right;\n",
       "    }\n",
       "</style>\n",
       "<table border=\"1\" class=\"dataframe\">\n",
       "  <thead>\n",
       "    <tr style=\"text-align: right;\">\n",
       "      <th></th>\n",
       "      <th>Cantidad</th>\n",
       "      <th>Monto</th>\n",
       "    </tr>\n",
       "  </thead>\n",
       "  <tbody>\n",
       "    <tr>\n",
       "      <th>0</th>\n",
       "      <td>123</td>\n",
       "      <td>229.33</td>\n",
       "    </tr>\n",
       "    <tr>\n",
       "      <th>1</th>\n",
       "      <td>163</td>\n",
       "      <td>209.73</td>\n",
       "    </tr>\n",
       "    <tr>\n",
       "      <th>3</th>\n",
       "      <td>1</td>\n",
       "      <td>39.95</td>\n",
       "    </tr>\n",
       "    <tr>\n",
       "      <th>4</th>\n",
       "      <td>357</td>\n",
       "      <td>344.83</td>\n",
       "    </tr>\n",
       "    <tr>\n",
       "      <th>5</th>\n",
       "      <td>91</td>\n",
       "      <td>199.98</td>\n",
       "    </tr>\n",
       "    <tr>\n",
       "      <th>...</th>\n",
       "      <td>...</td>\n",
       "      <td>...</td>\n",
       "    </tr>\n",
       "    <tr>\n",
       "      <th>25945</th>\n",
       "      <td>432</td>\n",
       "      <td>1034.40</td>\n",
       "    </tr>\n",
       "    <tr>\n",
       "      <th>25946</th>\n",
       "      <td>28</td>\n",
       "      <td>82.76</td>\n",
       "    </tr>\n",
       "    <tr>\n",
       "      <th>25949</th>\n",
       "      <td>488</td>\n",
       "      <td>720.00</td>\n",
       "    </tr>\n",
       "    <tr>\n",
       "      <th>25950</th>\n",
       "      <td>104</td>\n",
       "      <td>298.78</td>\n",
       "    </tr>\n",
       "    <tr>\n",
       "      <th>25951</th>\n",
       "      <td>1176</td>\n",
       "      <td>1488.00</td>\n",
       "    </tr>\n",
       "  </tbody>\n",
       "</table>\n",
       "<p>18562 rows × 2 columns</p>\n",
       "</div>"
      ],
      "text/plain": [
       "       Cantidad    Monto\n",
       "0           123   229.33\n",
       "1           163   209.73\n",
       "3             1    39.95\n",
       "4           357   344.83\n",
       "5            91   199.98\n",
       "...         ...      ...\n",
       "25945       432  1034.40\n",
       "25946        28    82.76\n",
       "25949       488   720.00\n",
       "25950       104   298.78\n",
       "25951      1176  1488.00\n",
       "\n",
       "[18562 rows x 2 columns]"
      ]
     },
     "execution_count": 50,
     "metadata": {},
     "output_type": "execute_result"
    }
   ],
   "source": [
    "mtdataset_num"
   ]
  },
  {
   "cell_type": "code",
   "execution_count": 51,
   "metadata": {},
   "outputs": [
    {
     "data": {
      "image/png": "[encoded data removed]",
      "text/plain": [
       "<Figure size 1500x1500 with 4 Axes>"
      ]
     },
     "metadata": {},
     "output_type": "display_data"
    }
   ],
   "source": [
    "# Grafica de dispersión e histograma\n",
    "#colorsd = mtdataset_num['Result'].map({1: 'red', 0: 'blue'})\n",
    "axesd=pd.plotting.scatter_matrix(mtdataset_num, alpha=0.7, figsize=(15,15), range_padding = 0.1, diagonal='hist',\n",
    "                           c = 'Blue', hist_kwds = {'bins':40, 'color':'red'})\n",
    "\n",
    "for ax in axesd.flatten():\n",
    "    ax.xaxis.label.set_rotation(0)\n",
    "    ax.yaxis.label.set_rotation(0)\n",
    "    ax.yaxis.label.set_ha('right')\n",
    "\n",
    "plt.tight_layout()\n",
    "plt.gcf().subplots_adjust(wspace=0, hspace=0)\n",
    "plt.show()"
   ]
  },
  {
   "cell_type": "code",
   "execution_count": 52,
   "metadata": {},
   "outputs": [
    {
     "data": {
      "text/plain": [
       "Index(['N° de factura', 'Fecha de factura', 'ID Cliente', 'País', 'Cantidad',\n",
       "       'Monto'],\n",
       "      dtype='object')"
      ]
     },
     "execution_count": 52,
     "metadata": {},
     "output_type": "execute_result"
    }
   ],
   "source": [
    "mtdataset.columns"
   ]
  },
  {
   "cell_type": "code",
   "execution_count": 70,
   "metadata": {},
   "outputs": [
    {
     "data": {
      "text/html": [
       "<div>\n",
       "<style scoped>\n",
       "    .dataframe tbody tr th:only-of-type {\n",
       "        vertical-align: middle;\n",
       "    }\n",
       "\n",
       "    .dataframe tbody tr th {\n",
       "        vertical-align: top;\n",
       "    }\n",
       "\n",
       "    .dataframe thead th {\n",
       "        text-align: right;\n",
       "    }\n",
       "</style>\n",
       "<table border=\"1\" class=\"dataframe\">\n",
       "  <thead>\n",
       "    <tr style=\"text-align: right;\">\n",
       "      <th></th>\n",
       "      <th>ID Cliente</th>\n",
       "      <th>Cantidad</th>\n",
       "      <th>Monto</th>\n",
       "      <th>Fecha de factura</th>\n",
       "      <th>N° de factura</th>\n",
       "    </tr>\n",
       "  </thead>\n",
       "  <tbody>\n",
       "    <tr>\n",
       "      <th>1689</th>\n",
       "      <td>14646.0</td>\n",
       "      <td>196915</td>\n",
       "      <td>280206.02</td>\n",
       "      <td>3</td>\n",
       "      <td>73</td>\n",
       "    </tr>\n",
       "    <tr>\n",
       "      <th>4201</th>\n",
       "      <td>18102.0</td>\n",
       "      <td>64124</td>\n",
       "      <td>259657.30</td>\n",
       "      <td>2</td>\n",
       "      <td>60</td>\n",
       "    </tr>\n",
       "    <tr>\n",
       "      <th>3728</th>\n",
       "      <td>17450.0</td>\n",
       "      <td>69993</td>\n",
       "      <td>194550.79</td>\n",
       "      <td>9</td>\n",
       "      <td>46</td>\n",
       "    </tr>\n",
       "    <tr>\n",
       "      <th>3008</th>\n",
       "      <td>16446.0</td>\n",
       "      <td>80997</td>\n",
       "      <td>168472.50</td>\n",
       "      <td>2</td>\n",
       "      <td>2</td>\n",
       "    </tr>\n",
       "    <tr>\n",
       "      <th>1879</th>\n",
       "      <td>14911.0</td>\n",
       "      <td>80515</td>\n",
       "      <td>143825.06</td>\n",
       "      <td>2</td>\n",
       "      <td>202</td>\n",
       "    </tr>\n",
       "    <tr>\n",
       "      <th>...</th>\n",
       "      <td>...</td>\n",
       "      <td>...</td>\n",
       "      <td>...</td>\n",
       "      <td>...</td>\n",
       "      <td>...</td>\n",
       "    </tr>\n",
       "    <tr>\n",
       "      <th>3323</th>\n",
       "      <td>16878.0</td>\n",
       "      <td>12</td>\n",
       "      <td>13.30</td>\n",
       "      <td>85</td>\n",
       "      <td>1</td>\n",
       "    </tr>\n",
       "    <tr>\n",
       "      <th>4098</th>\n",
       "      <td>17956.0</td>\n",
       "      <td>1</td>\n",
       "      <td>12.75</td>\n",
       "      <td>250</td>\n",
       "      <td>1</td>\n",
       "    </tr>\n",
       "    <tr>\n",
       "      <th>3014</th>\n",
       "      <td>16454.0</td>\n",
       "      <td>3</td>\n",
       "      <td>6.90</td>\n",
       "      <td>46</td>\n",
       "      <td>2</td>\n",
       "    </tr>\n",
       "    <tr>\n",
       "      <th>1793</th>\n",
       "      <td>14792.0</td>\n",
       "      <td>2</td>\n",
       "      <td>6.20</td>\n",
       "      <td>65</td>\n",
       "      <td>1</td>\n",
       "    </tr>\n",
       "    <tr>\n",
       "      <th>3217</th>\n",
       "      <td>16738.0</td>\n",
       "      <td>3</td>\n",
       "      <td>3.75</td>\n",
       "      <td>299</td>\n",
       "      <td>1</td>\n",
       "    </tr>\n",
       "  </tbody>\n",
       "</table>\n",
       "<p>4338 rows × 5 columns</p>\n",
       "</div>"
      ],
      "text/plain": [
       "      ID Cliente  Cantidad      Monto  Fecha de factura  N° de factura\n",
       "1689     14646.0    196915  280206.02                 3             73\n",
       "4201     18102.0     64124  259657.30                 2             60\n",
       "3728     17450.0     69993  194550.79                 9             46\n",
       "3008     16446.0     80997  168472.50                 2              2\n",
       "1879     14911.0     80515  143825.06                 2            202\n",
       "...          ...       ...        ...               ...            ...\n",
       "3323     16878.0        12      13.30                85              1\n",
       "4098     17956.0         1      12.75               250              1\n",
       "3014     16454.0         3       6.90                46              2\n",
       "1793     14792.0         2       6.20                65              1\n",
       "3217     16738.0         3       3.75               299              1\n",
       "\n",
       "[4338 rows x 5 columns]"
      ]
     },
     "execution_count": 70,
     "metadata": {},
     "output_type": "execute_result"
    }
   ],
   "source": [
    "#Agrupado por clientes\n",
    "customer_mtdataset=mtdataset.groupby('ID Cliente').agg({'Cantidad':'sum','Monto':'sum','Fecha de factura':lambda x: (mtdataset['Fecha de factura'].max()+pd.Timedelta(days=1)+pd.Timedelta(days=1)-x.max()).days,'N° de factura':'count'}).reset_index()\n",
    "customer_mtdataset.sort_values(by='Monto',ascending=False)"
   ]
  },
  {
   "cell_type": "code",
   "execution_count": 71,
   "metadata": {},
   "outputs": [
    {
     "name": "stdout",
     "output_type": "stream",
     "text": [
      "    ID Cliente  País\n",
      "20     12370.0     2\n",
      "38     12394.0     2\n",
      "56     12417.0     2\n",
      "60     12422.0     2\n",
      "67     12429.0     2\n",
      "69     12431.0     2\n",
      "90     12455.0     2\n",
      "92     12457.0     2\n"
     ]
    }
   ],
   "source": [
    "clientes_paises = mtdataset.groupby('ID Cliente')['País'].nunique().reset_index()\n",
    "\n",
    "# Filtrar los clientes que han comprado en más de un país\n",
    "clientes_diferentes_paises = clientes_paises[clientes_paises['País'] > 1]\n",
    "\n",
    "# Mostrar los clientes que han comprado en diferentes países\n",
    "print(clientes_diferentes_paises)"
   ]
  },
  {
   "cell_type": "code",
   "execution_count": 77,
   "metadata": {},
   "outputs": [
    {
     "data": {
      "text/html": [
       "<div>\n",
       "<style scoped>\n",
       "    .dataframe tbody tr th:only-of-type {\n",
       "        vertical-align: middle;\n",
       "    }\n",
       "\n",
       "    .dataframe tbody tr th {\n",
       "        vertical-align: top;\n",
       "    }\n",
       "\n",
       "    .dataframe thead th {\n",
       "        text-align: right;\n",
       "    }\n",
       "</style>\n",
       "<table border=\"1\" class=\"dataframe\">\n",
       "  <thead>\n",
       "    <tr style=\"text-align: right;\">\n",
       "      <th></th>\n",
       "      <th>ID Cliente</th>\n",
       "      <th>Cantidad</th>\n",
       "      <th>Monto</th>\n",
       "      <th>Fecha de factura</th>\n",
       "      <th>N° de factura</th>\n",
       "    </tr>\n",
       "  </thead>\n",
       "  <tbody>\n",
       "    <tr>\n",
       "      <th>2</th>\n",
       "      <td>12348.0</td>\n",
       "      <td>2341</td>\n",
       "      <td>1797.24</td>\n",
       "      <td>76</td>\n",
       "      <td>4</td>\n",
       "    </tr>\n",
       "  </tbody>\n",
       "</table>\n",
       "</div>"
      ],
      "text/plain": [
       "   ID Cliente  Cantidad    Monto  Fecha de factura  N° de factura\n",
       "2     12348.0      2341  1797.24                76              4"
      ]
     },
     "execution_count": 77,
     "metadata": {},
     "output_type": "execute_result"
    }
   ],
   "source": [
    "customer_mtdataset[customer_mtdataset['ID Cliente']==12348]"
   ]
  },
  {
   "cell_type": "code",
   "execution_count": 78,
   "metadata": {},
   "outputs": [],
   "source": [
    "customer_mtdataset.to_parquet('../data/processed/datafinal_mtdataset.parquet')"
   ]
  }
 ],
 "metadata": {
  "kernelspec": {
   "display_name": "Python 3",
   "language": "python",
   "name": "python3"
  },
  "language_info": {
   "codemirror_mode": {
    "name": "ipython",
    "version": 3
   },
   "file_extension": ".py",
   "mimetype": "text/x-python",
   "name": "python",
   "nbconvert_exporter": "python",
   "pygments_lexer": "ipython3",
   "version": "3.11.1"
  }
 },
 "nbformat": 4,
 "nbformat_minor": 2
}
